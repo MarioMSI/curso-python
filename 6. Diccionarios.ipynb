{
 "cells": [
  {
   "cell_type": "markdown",
   "metadata": {},
   "source": [
    "# 6. Diccionarios\n"
   ]
  },
  {
   "cell_type": "markdown",
   "metadata": {},
   "source": [
    "## Diccionarios  \n",
    "\n",
    "Los diccionarios tienen las siguientes caracteristicas:  \n",
    "\n",
    "🔵 Estructuras formadas por pares de Key:Value  \n",
    "  \n",
    "🟢 Ordenados: Los elementos están indexados a través de su key  \n",
    "  \n",
    "🔵 Mutables: Los elementos se pueden añadir, eliminar o modificar elementos  \n",
    "  \n",
    "🟢 Dinámicos: Puede contener diferentes tipos de datos en su interior incluidos objetos y datos multidimensionales además de otros diccionarios"
   ]
  },
  {
   "cell_type": "code",
   "execution_count": 2,
   "metadata": {},
   "outputs": [],
   "source": [
    "#Crear diccionario vacio\n",
    "dic_1 = dict()\n",
    "dict_2 = {}"
   ]
  },
  {
   "cell_type": "code",
   "execution_count": 3,
   "metadata": {},
   "outputs": [
    {
     "name": "stdout",
     "output_type": "stream",
     "text": [
      "{'Name': 'Muro', 'Type': 'IfcWall', 'PredefinedType': 'NOTDEFINED', 'RelatedWith': [2, 4, 6, 9]}\n",
      "{'Name': 'Losa', 'Type': 'IfcSlab', 'PredefinedType': 'NOTDEFINED', 'RelatedWith': [2, 4, 6, 9]}\n",
      "{'Name': 'Carril', 'Type': 'IfcRail', 'PredefinedType': 'NOTDEFINED', 'RelatedWith': [2, 4, 6, 9]}\n"
     ]
    }
   ],
   "source": [
    "#Crear diccionario\n",
    "#los diccionarios se crean con clave valor\n",
    "dict_1 = {\n",
    "'Name': 'Muro',\n",
    "'Type': 'IfcWall',\n",
    "'PredefinedType': 'NOTDEFINED',\n",
    "'RelatedWith': [2, 4, 6, 9] #los diccionarios pueden estar compuestos por listas tuplas etc\n",
    "}\n",
    "\n",
    "\n",
    "dict_2 = dict([\n",
    "('Name', 'Losa'),\n",
    "('Type', 'IfcSlab'),\n",
    "('PredefinedType', 'NOTDEFINED'),\n",
    "('RelatedWith', [2, 4, 6, 9])\n",
    "])\n",
    "\n",
    "dict_3 = dict(\n",
    "Name='Carril',\n",
    "Type='IfcRail',\n",
    "PredefinedType='NOTDEFINED',\n",
    "RelatedWith=[2, 4, 6, 9]\n",
    ")\n",
    "\n",
    "print(dict_1)\n",
    "print(dict_2)\n",
    "print(dict_3)"
   ]
  },
  {
   "cell_type": "code",
   "execution_count": 4,
   "metadata": {},
   "outputs": [
    {
     "name": "stdout",
     "output_type": "stream",
     "text": [
      "{'Name': 'Carril', 'Type': 'IfcRail', 'PredefinedType': 'NOTDEFINED', 'RelatedWith': [2, 4, 6, 9], 'RelatedTo': (23, 45, 67)}\n"
     ]
    }
   ],
   "source": [
    "#Añadir elementos a un diccionario \n",
    "dict_3['RelatedTo'] = (23, 45, 67)\n",
    "print(dict_3)"
   ]
  },
  {
   "cell_type": "code",
   "execution_count": 5,
   "metadata": {},
   "outputs": [
    {
     "name": "stdout",
     "output_type": "stream",
     "text": [
      "{'Name': 'Muro', 'Type': 'IfcWall', 'PredefinedType': 'NOTDEFINED', 'RelatedWith': [2, 4, 6, 9], 'pset_gral': {'PROYECTO': 'AAA1', 'UBICACION': 'MADRID'}}\n"
     ]
    }
   ],
   "source": [
    "#Crear un diccionario de diccionarios\n",
    "#Creamos un diccionario con unos pset\n",
    "\n",
    "pset_dict = {\n",
    "    'PROYECTO': 'AAA1',\n",
    "    'UBICACION': 'MADRID'\n",
    "}\n",
    "\n",
    "dict_4 = {\n",
    "    'Name': 'Muro',\n",
    "    'Type': 'IfcWall',\n",
    "    'PredefinedType': 'NOTDEFINED',\n",
    "    'RelatedWith': [2, 4, 6, 9],\n",
    "    'pset_gral': pset_dict\n",
    "}\n",
    "print(dict_4)"
   ]
  },
  {
   "cell_type": "code",
   "execution_count": 6,
   "metadata": {},
   "outputs": [
    {
     "name": "stdout",
     "output_type": "stream",
     "text": [
      "dict_keys(['Name', 'Type', 'PredefinedType', 'RelatedWith', 'pset_gral'])\n",
      "dict_values(['Muro', 'IfcWall', 'NOTDEFINED', [2, 4, 6, 9], {'PROYECTO': 'AAA1', 'UBICACION': 'MADRID'}])\n",
      "dict_keys(['PROYECTO', 'UBICACION'])\n",
      "dict_values(['AAA1', 'MADRID'])\n",
      "['Name', 'Type', 'PredefinedType', 'RelatedWith', 'pset_gral']\n",
      "['Muro', 'IfcWall', 'NOTDEFINED', [2, 4, 6, 9], {'PROYECTO': 'AAA1', 'UBICACION': 'MADRID'}]\n",
      "['PROYECTO', 'UBICACION']\n",
      "['AAA1', 'MADRID']\n",
      "['Name', 'Type', 'PredefinedType', 'RelatedWith', ['PROYECTO', 'UBICACION']]\n",
      "['Muro', 'IfcWall', 'NOTDEFINED', [2, 4, 6, 9], ['AAA1', 'MADRID']]\n"
     ]
    }
   ],
   "source": [
    "#Acceder a los valores del diccionario\n",
    "print(dict_4.keys())\n",
    "print(dict_4.values())\n",
    "\n",
    "print(dict_4['pset_gral'].keys())\n",
    "print(dict_4['pset_gral'].values())\n",
    "\n",
    "#Podemos convertirlas a listas\n",
    "dict_4_list_keys = list(dict_4.keys())\n",
    "dict_4_list_values = list(dict_4.values())\n",
    "\n",
    "#como tenemos un diccionario de diccionarios,tiene sus propias keys\n",
    "dict_4_list_keys_pset = list(dict_4['pset_gral'].keys())\n",
    "dict_4_list_values_pset = list(dict_4['pset_gral'].values())\n",
    "\n",
    "#principales\n",
    "print(dict_4_list_keys)\n",
    "print(dict_4_list_values)\n",
    "\n",
    "#anidado\n",
    "print(dict_4_list_keys_pset)\n",
    "print(dict_4_list_values_pset)\n",
    "\n",
    "#sustituimos para tenerlas en una sola lista\n",
    "dict_4_list_keys[-1] = dict_4_list_keys_pset\n",
    "dict_4_list_values[-1] = dict_4_list_values_pset\n",
    "\n",
    "print(dict_4_list_keys)\n",
    "print(dict_4_list_values)"
   ]
  },
  {
   "cell_type": "code",
   "execution_count": 7,
   "metadata": {},
   "outputs": [
    {
     "name": "stdout",
     "output_type": "stream",
     "text": [
      "{'PROYECTO': 'AAA1', 'UBICACION': 'MADRID'}\n",
      "[2, 4, 6, 9]\n"
     ]
    }
   ],
   "source": [
    "#Acceder a los value\n",
    "print(dict_4['pset_gral'])\n",
    "print(dict_4.get('RelatedWith'))"
   ]
  },
  {
   "cell_type": "code",
   "execution_count": 8,
   "metadata": {},
   "outputs": [
    {
     "data": {
      "text/plain": [
       "'MADRID'"
      ]
     },
     "execution_count": 8,
     "metadata": {},
     "output_type": "execute_result"
    }
   ],
   "source": [
    "#Acceder a los value\n",
    "dict_4['pset_gral']['UBICACION']"
   ]
  },
  {
   "cell_type": "code",
   "execution_count": 9,
   "metadata": {},
   "outputs": [
    {
     "name": "stdout",
     "output_type": "stream",
     "text": [
      "{'Name': 'Muro', 'Type': 'IfcWall', 'PredefinedType': 'NOTDEFINED', 'RelatedWith': [2, 5, 6, 8], 'OwnerHistory': 'None'}\n"
     ]
    }
   ],
   "source": [
    "#Actualizar un diccionario\n",
    "#Actualiza un diccionario sobre otro, y si algún elemento no está, lo crea\n",
    "dict_5 = {\n",
    "'Name': 'Muro',\n",
    "'Type': 'IfcWall',\n",
    "'PredefinedType': 'NOTDEFINED',\n",
    "'RelatedWith': [2, 5, 6, 8],\n",
    "'OwnerHistory': 'None'\n",
    "}\n",
    "\n",
    "dict_1.update(dict_5)\n",
    "print(dict_1)"
   ]
  },
  {
   "cell_type": "code",
   "execution_count": 10,
   "metadata": {},
   "outputs": [],
   "source": [
    "#Crear un diccionario desde una lista \n",
    "#Enfoque colección / json\n",
    "list_head = ['Name', 'Type', 'PredefinedType']\n",
    "list_values_1 = ['Wall', 'IfcWall', \"USERDEFINED\"]"
   ]
  },
  {
   "cell_type": "code",
   "execution_count": 11,
   "metadata": {},
   "outputs": [],
   "source": [
    "dict_1 = dict(zip(list_head,list_values_1))"
   ]
  },
  {
   "cell_type": "code",
   "execution_count": 12,
   "metadata": {},
   "outputs": [
    {
     "name": "stdout",
     "output_type": "stream",
     "text": [
      "{'Name': 'Wall', 'Type': 'IfcWall', 'PredefinedType': 'USERDEFINED'}\n"
     ]
    }
   ],
   "source": [
    "print(dict_1)"
   ]
  },
  {
   "cell_type": "code",
   "execution_count": 13,
   "metadata": {},
   "outputs": [
    {
     "name": "stdout",
     "output_type": "stream",
     "text": [
      "{'Element': ['wall1', 'wall2', 'wall3'], 'Type': ['t1', 't2', 't3']}\n"
     ]
    }
   ],
   "source": [
    "#Crear un diccionario desde una lista \n",
    "#Enfoque tabla\n",
    "list_elements = ['wall1', 'wall2', 'wall3']\n",
    "list_type = ['t1', 't2', 't3']\n",
    "\n",
    "dict_el = {\n",
    "    'Element':list_elements,\n",
    "    'Type':list_type\n",
    "}\n",
    "\n",
    "print(dict_el)"
   ]
  }
 ],
 "metadata": {
  "kernelspec": {
   "display_name": "Mario",
   "language": "python",
   "name": "python3"
  },
  "language_info": {
   "codemirror_mode": {
    "name": "ipython",
    "version": 3
   },
   "file_extension": ".py",
   "mimetype": "text/x-python",
   "name": "python",
   "nbconvert_exporter": "python",
   "pygments_lexer": "ipython3",
   "version": "3.11.0"
  },
  "orig_nbformat": 4
 },
 "nbformat": 4,
 "nbformat_minor": 2
}
