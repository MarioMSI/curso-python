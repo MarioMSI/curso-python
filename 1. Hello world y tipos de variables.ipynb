{
 "cells": [
  {
   "cell_type": "markdown",
   "id": "d33a7b38",
   "metadata": {},
   "source": [
    "# 1. Hello world y tipos de variables \n",
    "\n",
    "#### 1. ¿En que se basa Python?\n",
    "\n",
    "#### 2. Función print  \n",
    "\n",
    "#### 3. Hello world!  \n",
    "\n",
    "#### 4. Tipos de datos  \n"
   ]
  },
  {
   "cell_type": "markdown",
   "id": "29594333",
   "metadata": {},
   "source": [
    "## 👾 ¿En que se basa Python?  \n",
    "  \n",
    "Toda su lógica de programación se basa en <b>programación orientada a objetos</b>, por lo tanto tendremos:  \n",
    "- Variables\n",
    "- Objetos\n",
    "- Funciones \n",
    "- Métodos \n",
    "- Atributos \n"
   ]
  },
  {
   "cell_type": "markdown",
   "id": "450d5cd1",
   "metadata": {},
   "source": [
    "## 👽 Print"
   ]
  },
  {
   "cell_type": "code",
   "execution_count": 1,
   "id": "2c1a80bb",
   "metadata": {},
   "outputs": [
    {
     "name": "stdout",
     "output_type": "stream",
     "text": [
      "Hello world!\n",
      "3\n",
      "3 4\n",
      "3.4\n",
      "5\n"
     ]
    }
   ],
   "source": [
    "#Sentencia print\n",
    "\n",
    "print('Hello world!')\n",
    "print(3)\n",
    "print(3,4)\n",
    "print(3.4)\n",
    "print(3+2)"
   ]
  },
  {
   "cell_type": "code",
   "execution_count": 3,
   "id": "acde5d0c",
   "metadata": {},
   "outputs": [
    {
     "name": "stdout",
     "output_type": "stream",
     "text": [
      "hola, soy Mario\n"
     ]
    }
   ],
   "source": [
    "# f string\n",
    "\n",
    "a = 'hola'\n",
    "b = 'Mario'\n",
    "print(f'{a}, soy {b}')"
   ]
  },
  {
   "cell_type": "markdown",
   "id": "ba593fef",
   "metadata": {},
   "source": [
    "## Comentarios"
   ]
  },
  {
   "cell_type": "code",
   "execution_count": 4,
   "id": "ff23a415",
   "metadata": {},
   "outputs": [],
   "source": [
    "#Comentario entre el codigo"
   ]
  },
  {
   "cell_type": "code",
   "execution_count": 5,
   "id": "06d59c88",
   "metadata": {},
   "outputs": [
    {
     "data": {
      "text/plain": [
       "'Comentario entre\\nlineas '"
      ]
     },
     "execution_count": 5,
     "metadata": {},
     "output_type": "execute_result"
    }
   ],
   "source": [
    "\"\"\"Comentario entre\n",
    "lineas \"\"\""
   ]
  },
  {
   "cell_type": "code",
   "execution_count": 6,
   "id": "22f686ff",
   "metadata": {},
   "outputs": [
    {
     "data": {
      "text/plain": [
       "'Comentario \\nentre \\nlineas'"
      ]
     },
     "execution_count": 6,
     "metadata": {},
     "output_type": "execute_result"
    }
   ],
   "source": [
    "'''Comentario \n",
    "entre \n",
    "lineas'''"
   ]
  },
  {
   "cell_type": "code",
   "execution_count": 1,
   "id": "bb2019bd",
   "metadata": {},
   "outputs": [
    {
     "data": {
      "text/plain": [
       "'Comentario \\nentre \\nlineas \\ncon comentarios con \"comillas\" '"
      ]
     },
     "execution_count": 1,
     "metadata": {},
     "output_type": "execute_result"
    }
   ],
   "source": [
    "'''Comentario \n",
    "entre \n",
    "lineas \n",
    "con comentarios con \"comillas\" '''"
   ]
  },
  {
   "cell_type": "markdown",
   "id": "342792d6",
   "metadata": {},
   "source": [
    "## 👻 Tipos de variables"
   ]
  },
  {
   "cell_type": "markdown",
   "id": "9132694b",
   "metadata": {},
   "source": [
    "### ¿Qué es una variable?  \n",
    "Una variable es un espacio de memoria donde guardamos una información, en forma de:  \n",
    "- INT\n",
    "- FLOAT\n",
    "- STRING\n",
    "- BOOLEANS"
   ]
  },
  {
   "cell_type": "markdown",
   "id": "7a756f45",
   "metadata": {},
   "source": [
    "### Int"
   ]
  },
  {
   "cell_type": "code",
   "execution_count": 3,
   "id": "7511e697",
   "metadata": {},
   "outputs": [
    {
     "name": "stdout",
     "output_type": "stream",
     "text": [
      "<class 'int'>\n",
      "<class 'int'>\n",
      "3\n",
      "-1\n",
      "2\n",
      "1\n"
     ]
    }
   ],
   "source": [
    "#Numeros enteros\n",
    "a = 1\n",
    "b = 2 \n",
    "\n",
    "print(type(a))\n",
    "print(type(b))\n",
    "\n",
    "print(a+b) #Suma\n",
    "print(a-b) #Resta\n",
    "print(a*b) #Multiplicación\n",
    "print(a**b) #Potencia"
   ]
  },
  {
   "cell_type": "code",
   "execution_count": 4,
   "id": "026d0c07",
   "metadata": {},
   "outputs": [
    {
     "name": "stdout",
     "output_type": "stream",
     "text": [
      "3\n",
      "4\n",
      "1\n",
      "0\n"
     ]
    }
   ],
   "source": [
    "c= 7\n",
    "d = 8\n",
    "\n",
    "print(c//b)\n",
    "print(d//b)\n",
    "print(c%b)\n",
    "print(d%b)"
   ]
  },
  {
   "cell_type": "markdown",
   "id": "b6feb446",
   "metadata": {},
   "source": [
    "### Floats"
   ]
  },
  {
   "cell_type": "code",
   "execution_count": 5,
   "id": "58fd602f",
   "metadata": {},
   "outputs": [
    {
     "name": "stdout",
     "output_type": "stream",
     "text": [
      "<class 'float'>\n",
      "<class 'float'>\n",
      "2.33456\n",
      "-0.13456\n",
      "1.3580160000000001\n",
      "1.1248684950998158\n"
     ]
    }
   ],
   "source": [
    "#Numeros float\n",
    "c = 1.1\n",
    "d = 1.23456\n",
    "\n",
    "print(type(c))\n",
    "print(type(d))\n",
    "\n",
    "print(c+d) #Suma\n",
    "print(c-d) #Resta\n",
    "print(c*d) #Multiplicación\n",
    "print(c**d) #Potencia"
   ]
  },
  {
   "cell_type": "markdown",
   "id": "ad6da9c3",
   "metadata": {},
   "source": [
    "### Strings"
   ]
  },
  {
   "cell_type": "code",
   "execution_count": 6,
   "id": "6078b59c",
   "metadata": {},
   "outputs": [
    {
     "name": "stdout",
     "output_type": "stream",
     "text": [
      "1\n",
      "<class 'str'>\n",
      "1\n",
      "1.1\n",
      "<class 'str'>\n",
      "3\n",
      "String1\n",
      "Stringis 1\n"
     ]
    }
   ],
   "source": [
    "#String - cadenas de texto\n",
    "\n",
    "#Combinación de caracteres alfanuméricos\n",
    "\n",
    "s_1 = 'String'\n",
    "s_2 = 'My String'\n",
    "s_3 = 'Other string with numbers 2344'\n",
    "s_4 = str(a)\n",
    "s_5 = str(c)\n",
    "\n",
    "print(s_4)\n",
    "print(type(s_4))\n",
    "print(len(s_4))\n",
    "print(s_5)\n",
    "print(type(s_5))\n",
    "print(len(s_5))\n",
    "\n",
    "#s_6 = s_1+a\n",
    "s_7 = s_1 + s_4\n",
    "print(s_7)\n",
    "s_7 = s_1 + 'is ' + s_4\n",
    "print(s_7)\n"
   ]
  },
  {
   "cell_type": "code",
   "execution_count": 7,
   "id": "26a2889d",
   "metadata": {},
   "outputs": [
    {
     "ename": "TypeError",
     "evalue": "unsupported operand type(s) for +: 'int' and 'str'",
     "output_type": "error",
     "traceback": [
      "\u001b[1;31m---------------------------------------------------------------------------\u001b[0m",
      "\u001b[1;31mTypeError\u001b[0m                                 Traceback (most recent call last)",
      "Cell \u001b[1;32mIn[7], line 1\u001b[0m\n\u001b[1;32m----> 1\u001b[0m \u001b[38;5;28mprint\u001b[39m(\u001b[43mb\u001b[49m\u001b[38;5;241;43m+\u001b[39;49m\u001b[43ms_1\u001b[49m)\n",
      "\u001b[1;31mTypeError\u001b[0m: unsupported operand type(s) for +: 'int' and 'str'"
     ]
    }
   ],
   "source": [
    "print(b+s_1)"
   ]
  },
  {
   "cell_type": "code",
   "execution_count": 8,
   "id": "ea572105",
   "metadata": {},
   "outputs": [
    {
     "ename": "ValueError",
     "evalue": "invalid literal for int() with base 10: 'String'",
     "output_type": "error",
     "traceback": [
      "\u001b[1;31m---------------------------------------------------------------------------\u001b[0m",
      "\u001b[1;31mValueError\u001b[0m                                Traceback (most recent call last)",
      "Cell \u001b[1;32mIn[8], line 1\u001b[0m\n\u001b[1;32m----> 1\u001b[0m \u001b[38;5;28;43mint\u001b[39;49m\u001b[43m(\u001b[49m\u001b[43ms_1\u001b[49m\u001b[43m)\u001b[49m\n",
      "\u001b[1;31mValueError\u001b[0m: invalid literal for int() with base 10: 'String'"
     ]
    }
   ],
   "source": [
    "int(s_1)"
   ]
  },
  {
   "cell_type": "code",
   "execution_count": 15,
   "id": "49cc5e45",
   "metadata": {},
   "outputs": [
    {
     "name": "stdout",
     "output_type": "stream",
     "text": [
      "<class 'str'>\n",
      "1\n"
     ]
    }
   ],
   "source": [
    "a = str(a)\n",
    "print(type(a))\n",
    "print(a)"
   ]
  },
  {
   "cell_type": "code",
   "execution_count": 18,
   "id": "411aa940",
   "metadata": {},
   "outputs": [
    {
     "name": "stdout",
     "output_type": "stream",
     "text": [
      "11111String\n"
     ]
    }
   ],
   "source": [
    "print(a*5+s_1)"
   ]
  },
  {
   "cell_type": "code",
   "execution_count": 28,
   "id": "c3bc6fda",
   "metadata": {},
   "outputs": [
    {
     "name": "stdout",
     "output_type": "stream",
     "text": [
      "S\n",
      "t\n",
      "r\n"
     ]
    },
    {
     "data": {
      "text/plain": [
       "False"
      ]
     },
     "execution_count": 28,
     "metadata": {},
     "output_type": "execute_result"
    }
   ],
   "source": [
    "#Acceder a los caracteres del string\n",
    "print(s_1[0])\n",
    "print(s_1[1])\n",
    "print(s_1[2])\n",
    "'z' in s_1"
   ]
  },
  {
   "cell_type": "markdown",
   "id": "6fb25986",
   "metadata": {},
   "source": [
    "### Boleans"
   ]
  },
  {
   "cell_type": "code",
   "execution_count": 37,
   "id": "5c52338e",
   "metadata": {},
   "outputs": [
    {
     "name": "stdout",
     "output_type": "stream",
     "text": [
      "True\n",
      "False\n",
      "True\n",
      "False\n",
      "False\n",
      "el resultado es False\n"
     ]
    }
   ],
   "source": [
    "#Boleanos \n",
    "\n",
    "# Los booleanos son dos valores: True, False\n",
    "\n",
    "b_1 = True\n",
    "b_4 = False\n",
    "\n",
    "print(s_1 == s_1)\n",
    "print(s_1 != s_1)\n",
    "print(s_1 in s_2)\n",
    "print(s_1 in s_3)\n",
    "\n",
    "print(b_1 == b_4)\n",
    "a = b_1 == b_4\n",
    "b = str(a)\n",
    "print('el resultado es '+b)"
   ]
  },
  {
   "cell_type": "markdown",
   "id": "44e94942",
   "metadata": {},
   "source": [
    "### Tipado  \n",
    "Python tiene un tipado débil y dinámico, pero podemos ayudar al programa a detectar cuando recibe errores. "
   ]
  },
  {
   "cell_type": "code",
   "execution_count": 2,
   "id": "21daf8a9",
   "metadata": {},
   "outputs": [
    {
     "data": {
      "text/plain": [
       "int"
      ]
     },
     "execution_count": 2,
     "metadata": {},
     "output_type": "execute_result"
    }
   ],
   "source": [
    "my_str :str = 'soy una string'\n",
    "type(my_str)\n",
    "my_str = 9\n",
    "type(my_str)"
   ]
  },
  {
   "cell_type": "markdown",
   "id": "85ebe266",
   "metadata": {},
   "source": [
    "### Practica"
   ]
  },
  {
   "cell_type": "code",
   "execution_count": 41,
   "id": "05886626",
   "metadata": {},
   "outputs": [
    {
     "name": "stdout",
     "output_type": "stream",
     "text": [
      "Me llamo 12, y mi edad es 12 años\n",
      "<class 'str'>\n",
      "<class 'int'>\n"
     ]
    }
   ],
   "source": [
    "name = str(input('¿Cuál es tu nombre? '))\n",
    "age = int(input('¿Cuántos años tienes?'))\n",
    "print('Me llamo '+name+', y mi edad es '+str(age)+' años')\n",
    "print(type(name))\n",
    "print(type(age))"
   ]
  },
  {
   "cell_type": "code",
   "execution_count": null,
   "id": "1bdb241e",
   "metadata": {},
   "outputs": [],
   "source": [
    "name = input('¿Cuál es tu nombre? ')\n",
    "apellido = input('¿Cuál es tu apellido? ')\n",
    "age = int(input('¿Cuántos años tienes?'))\n",
    "print('Me llamo {} {} y tengo {} años'.format(name, apellido, age))\n",
    "print(f'Me llamo {name} {apellido} y tengo {age} años')\n"
   ]
  },
  {
   "cell_type": "code",
   "execution_count": 42,
   "id": "84a35543",
   "metadata": {},
   "outputs": [
    {
     "name": "stdout",
     "output_type": "stream",
     "text": [
      "La letra h está en la palabra hola\n"
     ]
    }
   ],
   "source": [
    "string = str(input('Introduce la palabra'))\n",
    "letter = str(input('Inrtroduce la letra a evaluar'))\n",
    "if letter in string: \n",
    "    print(f'La letra {letter} está en la palabra {string}')\n",
    "else:\n",
    "    print(f'La letra {letter} no está en la palabra {string}')"
   ]
  },
  {
   "cell_type": "code",
   "execution_count": null,
   "id": "14f039bf",
   "metadata": {},
   "outputs": [],
   "source": []
  }
 ],
 "metadata": {
  "kernelspec": {
   "display_name": "Python 3 (ipykernel)",
   "language": "python",
   "name": "python3"
  },
  "language_info": {
   "codemirror_mode": {
    "name": "ipython",
    "version": 3
   },
   "file_extension": ".py",
   "mimetype": "text/x-python",
   "name": "python",
   "nbconvert_exporter": "python",
   "pygments_lexer": "ipython3",
   "version": "3.11.0"
  }
 },
 "nbformat": 4,
 "nbformat_minor": 5
}
