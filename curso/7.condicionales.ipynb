{
 "cells": [
  {
   "cell_type": "markdown",
   "metadata": {},
   "source": [
    "# 7. Condicionales"
   ]
  },
  {
   "cell_type": "markdown",
   "metadata": {},
   "source": [
    "La estructura de condicional es:  \n",
    "  \n",
    "if (prueba de valor):               # Primera condición, si se cumple, salimos del programa al acabar el bloque de código. el resultado de la prueba de valor tiene que ser un bool.  \n",
    "    bloque de código                  \n",
    "elif (Prueba de valor 2):           # Segunda condición,   \n",
    "    bloque de código 2  \n",
    "else:                               # Si no se ha cumplido lo anterior, se ejecutará esto, por lo tanto no es necesario prueba de valor. No es obligatorio ponerlo si no queremos que se ejecute una acción  \n",
    "    bloque de código 3  "
   ]
  },
  {
   "cell_type": "code",
   "execution_count": null,
   "metadata": {},
   "outputs": [],
   "source": [
    "#La estructura de condicional es:  \n",
    "  \n",
    "if (prueba de valor):               # Primera condición, si se cumple, salimos del programa al acabar el bloque de código. el resultado de la prueba de valor tiene que ser un bool.  \n",
    "    bloque de código                  \n",
    "elif (Prueba de valor 2):           # Segunda condición,   \n",
    "    bloque de código 2  \n",
    "else:                               # Si no se ha cumplido lo anterior, se ejecutará esto, por lo tanto no es necesario prueba de valor. No es obligatorio ponerlo si no queremos que se ejecute una acción  \n",
    "    bloque de código 3  "
   ]
  },
  {
   "cell_type": "code",
   "execution_count": 2,
   "metadata": {},
   "outputs": [],
   "source": [
    "a = [1, 2, 3]"
   ]
  },
  {
   "cell_type": "code",
   "execution_count": 3,
   "metadata": {},
   "outputs": [
    {
     "data": {
      "text/plain": [
       "True"
      ]
     },
     "execution_count": 3,
     "metadata": {},
     "output_type": "execute_result"
    }
   ],
   "source": [
    "3 in a"
   ]
  },
  {
   "cell_type": "code",
   "execution_count": 4,
   "metadata": {},
   "outputs": [
    {
     "data": {
      "text/plain": [
       "False"
      ]
     },
     "execution_count": 4,
     "metadata": {},
     "output_type": "execute_result"
    }
   ],
   "source": [
    "[3, 2, 1] == a"
   ]
  },
  {
   "cell_type": "code",
   "execution_count": 5,
   "metadata": {},
   "outputs": [
    {
     "data": {
      "text/plain": [
       "True"
      ]
     },
     "execution_count": 5,
     "metadata": {},
     "output_type": "execute_result"
    }
   ],
   "source": [
    "1 == a[0]"
   ]
  },
  {
   "cell_type": "code",
   "execution_count": 8,
   "metadata": {},
   "outputs": [],
   "source": [
    "a = [1, 2, 3, 7, 8]"
   ]
  },
  {
   "cell_type": "code",
   "execution_count": 9,
   "metadata": {},
   "outputs": [
    {
     "name": "stdout",
     "output_type": "stream",
     "text": [
      "[1, 2, 3, 7, 8, 4, 5, 6]\n"
     ]
    }
   ],
   "source": [
    "\n",
    "if (4 in a) & (5 in a):\n",
    "    print('4 y 5 in lista a')\n",
    "\n",
    "elif 4 in a: \n",
    "    print('4 in lista a')\n",
    "\n",
    "elif 5 in a: \n",
    "    print('5 in lista a')\n",
    "\n",
    "elif 6 in a: \n",
    "    print('6 in lista a')\n",
    "\n",
    "else: \n",
    "    b = a.copy()\n",
    "    b.append(4)\n",
    "    b.append(5)\n",
    "    b.append(6)\n",
    "#    print(b)\n",
    "    "
   ]
  },
  {
   "cell_type": "markdown",
   "metadata": {},
   "source": [
    "### Ejercicio 1.  \n",
    "  \n",
    "Creamos un programa que pida por pantalla tu edad, y calcule si eres mayor de edad o no. "
   ]
  },
  {
   "cell_type": "code",
   "execution_count": null,
   "metadata": {},
   "outputs": [],
   "source": [
    "# 1. definimos una variable y instanciamos el input (obligar que sea un int )\n",
    "# 2. crear el condicional. \n",
    "#       if - else \n",
    "#       if -> edad > 18 eres mayor \n"
   ]
  },
  {
   "cell_type": "code",
   "execution_count": 23,
   "metadata": {},
   "outputs": [
    {
     "ename": "ValueError",
     "evalue": "invalid literal for int() with base 10: 'once'",
     "output_type": "error",
     "traceback": [
      "\u001b[1;31m---------------------------------------------------------------------------\u001b[0m",
      "\u001b[1;31mValueError\u001b[0m                                Traceback (most recent call last)",
      "Cell \u001b[1;32mIn[23], line 1\u001b[0m\n\u001b[1;32m----> 1\u001b[0m edad \u001b[38;5;241m=\u001b[39m \u001b[38;5;28;43mint\u001b[39;49m\u001b[43m(\u001b[49m\u001b[38;5;28;43minput\u001b[39;49m\u001b[43m(\u001b[49m\u001b[38;5;124;43m'\u001b[39;49m\u001b[38;5;124;43mIntroduce tu edad: \u001b[39;49m\u001b[38;5;124;43m'\u001b[39;49m\u001b[43m)\u001b[49m\u001b[43m)\u001b[49m\n\u001b[0;32m      2\u001b[0m \u001b[38;5;28mprint\u001b[39m(edad)\n\u001b[0;32m      3\u001b[0m \u001b[38;5;28;01mif\u001b[39;00m edad \u001b[38;5;241m>\u001b[39m\u001b[38;5;241m=\u001b[39m \u001b[38;5;241m18\u001b[39m:\n",
      "\u001b[1;31mValueError\u001b[0m: invalid literal for int() with base 10: 'once'"
     ]
    }
   ],
   "source": [
    "edad = int(input('Introduce tu edad: '))\n",
    "print(edad)\n",
    "if edad >= 18:\n",
    "    print('Eres mayor de edad!')\n",
    "\n",
    "else:\n",
    "    print('Eres menor de edad!')"
   ]
  },
  {
   "cell_type": "code",
   "execution_count": 7,
   "metadata": {},
   "outputs": [
    {
     "name": "stdout",
     "output_type": "stream",
     "text": [
      "0\n",
      "Eres menor de edad!\n"
     ]
    }
   ],
   "source": [
    "# establecer que sea un valor entre 0 y 130 \n",
    "# elif si es negativo que ponga 'llama a tu mama' \n",
    "\n",
    "edad = int(input('Introduce tu edad: '))\n",
    "print(edad)\n",
    "if edad >= 0:\n",
    "\n",
    "    if edad >= 18:\n",
    "        print('Eres mayor de edad!')\n",
    "\n",
    "    else:\n",
    "        print('Eres menor de edad!')\n",
    "\n",
    "else:\n",
    "    print('Introduce una edad posible')"
   ]
  },
  {
   "cell_type": "code",
   "execution_count": 11,
   "metadata": {},
   "outputs": [
    {
     "name": "stdout",
     "output_type": "stream",
     "text": [
      "0\n",
      "Eres menor de edad\n"
     ]
    }
   ],
   "source": [
    "edad = int(input('Introduce tu edad: '))\n",
    "print(edad)\n",
    "\n",
    "if edad < 0: \n",
    "    print('Introduce una edad posible')\n",
    "\n",
    "elif edad > 18:\n",
    "    print('Eres mayor de edad!')\n",
    "\n",
    "else:\n",
    "    print('Eres menor de edad')"
   ]
  },
  {
   "cell_type": "code",
   "execution_count": 19,
   "metadata": {},
   "outputs": [],
   "source": [
    "def comprobar_edad(edad):\n",
    "    print(edad)\n",
    "    if edad >= 18:\n",
    "        print('Eres mayor de edad!')\n",
    "\n",
    "    else:\n",
    "        print('Eres menor de edad!')"
   ]
  },
  {
   "cell_type": "code",
   "execution_count": 21,
   "metadata": {},
   "outputs": [
    {
     "name": "stdout",
     "output_type": "stream",
     "text": [
      "13\n",
      "Eres menor de edad!\n"
     ]
    }
   ],
   "source": [
    "comprobar_edad(13)"
   ]
  },
  {
   "cell_type": "code",
   "execution_count": 25,
   "metadata": {},
   "outputs": [
    {
     "name": "stdout",
     "output_type": "stream",
     "text": [
      "-4\n",
      "Eres menor de edad!\n",
      "-3\n",
      "Eres menor de edad!\n",
      "-2\n",
      "Eres menor de edad!\n",
      "-1\n",
      "Eres menor de edad!\n",
      "0\n",
      "Eres menor de edad!\n",
      "1\n",
      "Eres menor de edad!\n",
      "2\n",
      "Eres menor de edad!\n",
      "3\n",
      "Eres menor de edad!\n",
      "4\n",
      "Eres menor de edad!\n",
      "5\n",
      "Eres menor de edad!\n",
      "6\n",
      "Eres menor de edad!\n",
      "7\n",
      "Eres menor de edad!\n",
      "8\n",
      "Eres menor de edad!\n",
      "9\n",
      "Eres menor de edad!\n",
      "10\n",
      "Eres menor de edad!\n",
      "11\n",
      "Eres menor de edad!\n",
      "12\n",
      "Eres menor de edad!\n",
      "13\n",
      "Eres menor de edad!\n",
      "14\n",
      "Eres menor de edad!\n",
      "15\n",
      "Eres menor de edad!\n",
      "16\n",
      "Eres menor de edad!\n",
      "17\n",
      "Eres menor de edad!\n",
      "18\n",
      "Eres mayor de edad!\n",
      "19\n",
      "Eres mayor de edad!\n"
     ]
    }
   ],
   "source": [
    "for i in range(-4, 20, 1):\n",
    "    comprobar_edad(i)"
   ]
  },
  {
   "cell_type": "code",
   "execution_count": null,
   "metadata": {},
   "outputs": [],
   "source": []
  },
  {
   "cell_type": "code",
   "execution_count": null,
   "metadata": {},
   "outputs": [],
   "source": []
  },
  {
   "cell_type": "code",
   "execution_count": null,
   "metadata": {},
   "outputs": [],
   "source": []
  },
  {
   "cell_type": "code",
   "execution_count": null,
   "metadata": {},
   "outputs": [],
   "source": []
  },
  {
   "cell_type": "markdown",
   "metadata": {},
   "source": [
    "### Ejercicio 2.  \n",
    "  \n",
    "Los tipos impositivos son los siguientes:  \n",
    "  \n",
    "|   Renta   |\tTipo impositivo | Tramo |\n",
    "|---|---|---|\n",
    "|   Menos de 10000€\t|   5% |Tramo 1|\n",
    "|   Entre 10000€ y 20000€\t|   15%    |Tramo 2|\n",
    "|   Entre 20000€ y 35000€\t|   20%    |Tramo 3|\n",
    "|   Entre 35000€ y 60000€\t|   30%    |Tramo 4|\n",
    "|   Más de 60000€\t|   45% | Tramo 5|\n",
    "  \n",
    "Hacer lo siguiente: \n",
    "\n",
    "- Un programa que pida por pantalla al usuario su renta anual y devuelva el tipo que tiene que tributar  "
   ]
  },
  {
   "cell_type": "code",
   "execution_count": 2,
   "metadata": {},
   "outputs": [
    {
     "name": "stdout",
     "output_type": "stream",
     "text": [
      "5%\n",
      "El valor a pagar es  6.15\n",
      "El valor a pagar es 6.15\n"
     ]
    }
   ],
   "source": [
    "renta = float(input('Introduce tu renta'))\n",
    "\n",
    "# filtrar valores negativos \n",
    "# condiciones de tramos \n",
    "# poner bien las comas y los puntos\n",
    "\n",
    "if renta > 0:\n",
    "    if ( renta <= 10000 ):\n",
    "        print('5%')\n",
    "        print('El valor a pagar es ', renta*0.05)\n",
    "        valor = renta * 0.05\n",
    "        print(f'El valor a pagar es {valor}')\n",
    "\n",
    "    elif ( renta <= 20000):\n",
    "        valor = renta * 0.15\n",
    "        print('15%')\n",
    "        print(f'El valor a pagar es {valor}')\n",
    "\n",
    "    elif ( renta <= 35000):\n",
    "        valor = renta * 0.20\n",
    "        print('20%')\n",
    "        print(f'El valor a pagar es {valor}')    \n",
    "\n",
    "    elif ( renta <= 60000):\n",
    "        valor = renta * 0.30\n",
    "        print('30%')\n",
    "        print(f'El valor a pagar es {valor}')  \n",
    "\n",
    "    else: \n",
    "        valor = renta * 0.45\n",
    "        print('45%')\n",
    "        print(f'El valor a pagar es {valor}')  \n",
    "\n",
    "elif renta == 0:\n",
    "    print('No puedes cobrar cero :( ')\n",
    "\n",
    "else:\n",
    "    print('Introduce un valor mayor de cero!!')"
   ]
  },
  {
   "cell_type": "code",
   "execution_count": 3,
   "metadata": {},
   "outputs": [],
   "source": [
    "def calcular_renta(renta: float): \n",
    "    if renta > 0:\n",
    "        if ( renta <= 10000 ):\n",
    "            print('5%')\n",
    "            valor = renta * 0.05\n",
    "            print(f'El valor a pagar es {valor}')\n",
    "\n",
    "        elif ( renta <= 20000):\n",
    "            valor = renta * 0.15\n",
    "            print('15%')\n",
    "            print(f'El valor a pagar es {valor}')\n",
    "\n",
    "        elif ( renta <= 35000):\n",
    "            valor = renta * 0.20\n",
    "            print('20%')\n",
    "            print(f'El valor a pagar es {valor}')    \n",
    "\n",
    "        elif ( renta <= 60000):\n",
    "            valor = renta * 0.30\n",
    "            print('30%')\n",
    "            print(f'El valor a pagar es {valor}')  \n",
    "\n",
    "        else: \n",
    "            valor = renta * 0.45\n",
    "            print('45%')\n",
    "            print(f'El valor a pagar es {valor}')  \n",
    "\n",
    "    elif renta == 0:\n",
    "        print('No puedes cobrar cero :( ')\n",
    "\n",
    "    else:\n",
    "        print('Introduce un valor mayor de cero!!')"
   ]
  },
  {
   "cell_type": "code",
   "execution_count": 4,
   "metadata": {},
   "outputs": [
    {
     "name": "stdout",
     "output_type": "stream",
     "text": [
      "15%\n",
      "El valor a pagar es 2700.0\n"
     ]
    }
   ],
   "source": [
    "calcular_renta(18000)"
   ]
  },
  {
   "cell_type": "code",
   "execution_count": 19,
   "metadata": {},
   "outputs": [
    {
     "name": "stdout",
     "output_type": "stream",
     "text": [
      "15%\n",
      "El valor a pagar es 2850.0\n"
     ]
    }
   ],
   "source": [
    "calcular_renta(19000)"
   ]
  },
  {
   "cell_type": "code",
   "execution_count": 7,
   "metadata": {},
   "outputs": [],
   "source": [
    "dicc_tramos = {\n",
    "    'Tramo 1': [10000,0.05], \n",
    "    'Tramo 2': [20000,0.15], \n",
    "    'Tramo 3': [35000,0.20], \n",
    "    'Tramo 4': [60000,0.30], \n",
    "    'Tramo 5': [-1, 0.45]\n",
    "}"
   ]
  },
  {
   "cell_type": "code",
   "execution_count": 8,
   "metadata": {},
   "outputs": [],
   "source": [
    "def calcular_renta_1(renta: float, dicc_tramos : dict): \n",
    "    if renta > 0:\n",
    "        if ( renta <= dicc_tramos['Tramo 1'][0] ):\n",
    "            print('5%')\n",
    "            valor = renta * dicc_tramos['Tramo 1'][1]\n",
    "            print(f'El valor a pagar es {valor}')\n",
    "\n",
    "        elif ( renta <=dicc_tramos['Tramo 2'][0]):\n",
    "            valor = renta *  dicc_tramos['Tramo 2'][1]\n",
    "            print('15%')\n",
    "            print(f'El valor a pagar es {valor}')\n",
    "\n",
    "        elif ( renta <= dicc_tramos['Tramo 3'][0]):\n",
    "            valor = renta *  dicc_tramos['Tramo 3'][1]\n",
    "            print('20%')\n",
    "            print(f'El valor a pagar es {valor}')    \n",
    "\n",
    "        elif ( renta <= dicc_tramos['Tramo 4'][0]):\n",
    "            valor = renta *  dicc_tramos['Tramo 4'][1]\n",
    "            print('30%')\n",
    "            print(f'El valor a pagar es {valor}')  \n",
    "\n",
    "        else: \n",
    "            valor = renta *  dicc_tramos['Tramo 5'][1]\n",
    "            print('45%')\n",
    "            print(f'El valor a pagar es {valor}')  \n",
    "\n",
    "    elif renta == 0:\n",
    "        print('No puedes cobrar cero :( ')\n",
    "\n",
    "    else:\n",
    "        print('Introduce un valor mayor de cero!!')"
   ]
  },
  {
   "cell_type": "code",
   "execution_count": 9,
   "metadata": {},
   "outputs": [
    {
     "name": "stdout",
     "output_type": "stream",
     "text": [
      "20%\n",
      "El valor a pagar es 6000.0\n"
     ]
    }
   ],
   "source": [
    "calcular_renta_1(30000, dicc_tramos)"
   ]
  },
  {
   "cell_type": "code",
   "execution_count": 31,
   "metadata": {},
   "outputs": [],
   "source": [
    "dicc_ = {\n",
    "    'Tramo 1': [10000,0.05], \n",
    "    'Tramo 2': [20000,0.15], \n",
    "    'Tramo 3': [35000,0.20], \n",
    "    'Tramo 4': [60000,0.30], \n",
    "    'Tramo 5': [-1, 0.45]\n",
    "}"
   ]
  },
  {
   "cell_type": "code",
   "execution_count": 32,
   "metadata": {},
   "outputs": [
    {
     "name": "stdout",
     "output_type": "stream",
     "text": [
      "15%\n",
      "El valor a pagar es 2850.0\n"
     ]
    }
   ],
   "source": [
    "calcular_renta(19000, dicc_)"
   ]
  },
  {
   "cell_type": "code",
   "execution_count": 45,
   "metadata": {},
   "outputs": [
    {
     "name": "stdout",
     "output_type": "stream",
     "text": [
      "15%\n",
      "El valor a pagar es 2850.0\n"
     ]
    }
   ],
   "source": [
    "calcular.calcular_renta(19000)"
   ]
  },
  {
   "cell_type": "code",
   "execution_count": 14,
   "metadata": {},
   "outputs": [],
   "source": [
    "from functions import calcular_renta_4"
   ]
  },
  {
   "cell_type": "code",
   "execution_count": 15,
   "metadata": {},
   "outputs": [
    {
     "name": "stdout",
     "output_type": "stream",
     "text": [
      "15%\n",
      "El valor a pagar es 2850.0\n"
     ]
    }
   ],
   "source": [
    "calcular_renta_4(19000)"
   ]
  },
  {
   "cell_type": "code",
   "execution_count": 16,
   "metadata": {},
   "outputs": [],
   "source": [
    "from functions import func_hola_world"
   ]
  },
  {
   "cell_type": "code",
   "execution_count": 11,
   "metadata": {},
   "outputs": [
    {
     "name": "stdout",
     "output_type": "stream",
     "text": [
      "hello world Mario\n"
     ]
    }
   ],
   "source": [
    "func_hola_world('Mario')"
   ]
  },
  {
   "cell_type": "code",
   "execution_count": 17,
   "metadata": {},
   "outputs": [],
   "source": [
    "import functions"
   ]
  },
  {
   "cell_type": "code",
   "execution_count": null,
   "metadata": {},
   "outputs": [],
   "source": []
  }
 ],
 "metadata": {
  "kernelspec": {
   "display_name": "Mario",
   "language": "python",
   "name": "python3"
  },
  "language_info": {
   "codemirror_mode": {
    "name": "ipython",
    "version": 3
   },
   "file_extension": ".py",
   "mimetype": "text/x-python",
   "name": "python",
   "nbconvert_exporter": "python",
   "pygments_lexer": "ipython3",
   "version": "3.11.0"
  }
 },
 "nbformat": 4,
 "nbformat_minor": 2
}
