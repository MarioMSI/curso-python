{
 "cells": [
  {
   "cell_type": "markdown",
   "metadata": {},
   "source": [
    "# 2. Listas"
   ]
  },
  {
   "cell_type": "markdown",
   "metadata": {},
   "source": [
    "## Listas  \n",
    "Las listas en python tienen 4 características que la definen:  \n",
    "  \n",
    "🔵 Ordenada: Sus elementos están indexados  \n",
    "\n",
    "🟢 Mutables: Los elementos se pueden añadir, eliminar o modificar elementos  \n",
    "\n",
    "🔵 Dinámica: Puede contener diferentes tipos de datos en su interior incluidos objetos y datos multidimensionales además de otras listas  \n",
    "\n",
    "🟢 No única: Puede contener valores repetidos en su interior  "
   ]
  },
  {
   "cell_type": "code",
   "execution_count": 1,
   "metadata": {},
   "outputs": [],
   "source": [
    "#Creamos una lista vacia\n",
    "list_1 = list()\n",
    "list_2 = []"
   ]
  },
  {
   "cell_type": "code",
   "execution_count": 2,
   "metadata": {},
   "outputs": [
    {
     "name": "stdout",
     "output_type": "stream",
     "text": [
      "[]\n",
      "<class 'list'>\n",
      "0\n"
     ]
    }
   ],
   "source": [
    "print(list_1)\n",
    "print(type(list_1))\n",
    "print(len(list_1))"
   ]
  },
  {
   "cell_type": "code",
   "execution_count": 3,
   "metadata": {},
   "outputs": [
    {
     "name": "stdout",
     "output_type": "stream",
     "text": [
      "[1, 2, 3, 3.7, 'hola', 'h']\n",
      "6\n"
     ]
    }
   ],
   "source": [
    "# Creamos una lista \n",
    "list_1 = [1, 2, 3, 3.7, 'hola', 'h']\n",
    "print(list_1)\n",
    "print(len(list_1))"
   ]
  },
  {
   "cell_type": "code",
   "execution_count": 4,
   "metadata": {},
   "outputs": [
    {
     "name": "stdout",
     "output_type": "stream",
     "text": [
      "['h', 'o', 'l', 'a', ' ', 's', 'o', 'y', ' ', 'm', 'a', 'r', 'i', 'o', ' ']\n"
     ]
    }
   ],
   "source": [
    "var = 'hola soy mario '\n",
    "my_list = list(var)\n",
    "print(my_list)"
   ]
  },
  {
   "cell_type": "code",
   "execution_count": 5,
   "metadata": {},
   "outputs": [
    {
     "name": "stdout",
     "output_type": "stream",
     "text": [
      "1\n",
      "h\n",
      "3\n"
     ]
    }
   ],
   "source": [
    "#Acceder a valores según indice \n",
    "print(list_1[0])\n",
    "print(list_1[-1])\n",
    "print(list_1[2])"
   ]
  },
  {
   "cell_type": "code",
   "execution_count": 6,
   "metadata": {},
   "outputs": [
    {
     "name": "stdout",
     "output_type": "stream",
     "text": [
      "['GG', 2, 3, 3.7, 'hola', 'h']\n"
     ]
    }
   ],
   "source": [
    "#Sustituir valores \n",
    "list_1[0] = 'GG'\n",
    "print(list_1)"
   ]
  },
  {
   "cell_type": "code",
   "execution_count": 7,
   "metadata": {},
   "outputs": [
    {
     "name": "stdout",
     "output_type": "stream",
     "text": [
      "['GG', 2, 3, ['a', 'b', 'c'], 'hola', 'h']\n",
      "6\n"
     ]
    }
   ],
   "source": [
    "list_2 = ['a', 'b', 'c']\n",
    "list_1[3] = list_2\n",
    "print(list_1)\n",
    "print(len(list_1))"
   ]
  },
  {
   "cell_type": "code",
   "execution_count": 8,
   "metadata": {},
   "outputs": [
    {
     "name": "stdout",
     "output_type": "stream",
     "text": [
      "b\n"
     ]
    }
   ],
   "source": [
    "a = list_1[3][1]\n",
    "print(a)"
   ]
  },
  {
   "cell_type": "code",
   "execution_count": 9,
   "metadata": {},
   "outputs": [],
   "source": [
    "list_3 = ['a', 'b', 'c', 'd', 'e', 'f', 1, 2, 3, 5, 67.89]"
   ]
  },
  {
   "cell_type": "code",
   "execution_count": 10,
   "metadata": {},
   "outputs": [
    {
     "data": {
      "text/plain": [
       "11"
      ]
     },
     "execution_count": 10,
     "metadata": {},
     "output_type": "execute_result"
    }
   ],
   "source": [
    "len(list_3)"
   ]
  },
  {
   "cell_type": "code",
   "execution_count": 11,
   "metadata": {},
   "outputs": [
    {
     "name": "stdout",
     "output_type": "stream",
     "text": [
      "['a', 'b', 'c', 'd', 'e', 'f']\n",
      "['f', 1, 2, 3, 5]\n",
      "['f', 1, 2, 3, 5, 67.89]\n"
     ]
    }
   ],
   "source": [
    "#Slicing \n",
    "#desde la que quiero - incluida\n",
    "#hasta la que quiero - sin incluir\n",
    "list_4 = list_3[0:6]\n",
    "print(list_4)\n",
    "list_5 = list_3[-6:10]\n",
    "print(list_5)\n",
    "posicion_ultimo_elemento = len(list_3)\n",
    "list_6 = list_3[5:posicion_ultimo_elemento]\n",
    "print(list_6)\n"
   ]
  },
  {
   "cell_type": "code",
   "execution_count": 12,
   "metadata": {},
   "outputs": [],
   "source": [
    "list_4 = list_3.copy()"
   ]
  },
  {
   "cell_type": "code",
   "execution_count": 13,
   "metadata": {},
   "outputs": [],
   "source": [
    "# Agregar valores \n",
    "# Metodo append \n",
    "c = 'hola'\n",
    "list_4.append(c)\n",
    "list_4.append('valor')\n",
    "list_4.append(5)\n",
    "list_4.append('last')"
   ]
  },
  {
   "cell_type": "code",
   "execution_count": 14,
   "metadata": {},
   "outputs": [
    {
     "name": "stdout",
     "output_type": "stream",
     "text": [
      "['a', 'b', 'c', 'd', 'e', 'f', 1, 2, 3, 5, 67.89, 'hola', 'valor', 5, 'last']\n"
     ]
    }
   ],
   "source": [
    "print(list_4)"
   ]
  },
  {
   "cell_type": "code",
   "execution_count": 15,
   "metadata": {},
   "outputs": [
    {
     "name": "stdout",
     "output_type": "stream",
     "text": [
      "['first', 'a', 'b', 'c', 'd', 'e', 'f', 1, 2, 3, 5, 67.89, 'hola', 'valor', 5, 'last']\n"
     ]
    }
   ],
   "source": [
    "#Metodo insert \n",
    "list_4.insert(0, 'first')\n",
    "print(list_4)"
   ]
  },
  {
   "cell_type": "code",
   "execution_count": 18,
   "metadata": {},
   "outputs": [
    {
     "name": "stdout",
     "output_type": "stream",
     "text": [
      "['GG', 2, 3, ['a', 'b', 'c'], 'hola', 'h', 'a', 'b', 'c', 'd', 'e', 'f', 1, 2, 3, 5, 67.89]\n",
      "['GG', 2, 3, ['a', 'b', 'c'], 'hola', 'h']\n",
      "['a', 'b', 'c', 'd', 'e', 'f', 1, 2, 3, 5, 67.89]\n"
     ]
    }
   ],
   "source": [
    "list_5 = list_1 + list_3 \n",
    "print(list_5)\n",
    "print(list_1)\n",
    "print(list_3)"
   ]
  },
  {
   "cell_type": "code",
   "execution_count": 22,
   "metadata": {},
   "outputs": [],
   "source": [
    "list_6 = list_1.extend(list_5)"
   ]
  },
  {
   "cell_type": "code",
   "execution_count": 23,
   "metadata": {},
   "outputs": [
    {
     "name": "stdout",
     "output_type": "stream",
     "text": [
      "None\n"
     ]
    }
   ],
   "source": [
    "print(list_6)"
   ]
  },
  {
   "cell_type": "code",
   "execution_count": 24,
   "metadata": {},
   "outputs": [
    {
     "name": "stdout",
     "output_type": "stream",
     "text": [
      "['GG', 2, 3, ['a', 'b', 'c'], 'hola', 'h', 'GG', 2, 3, ['a', 'b', 'c'], 'hola', 'h', 'a', 'b', 'c', 'd', 'e', 'f', 1, 2, 3, 5, 67.89, 'GG', 2, 3, ['a', 'b', 'c'], 'hola', 'h', 'a', 'b', 'c', 'd', 'e', 'f', 1, 2, 3, 5, 67.89, 'GG', 2, 3, ['a', 'b', 'c'], 'hola', 'h', 'a', 'b', 'c', 'd', 'e', 'f', 1, 2, 3, 5, 67.89, 'GG', 2, 3, ['a', 'b', 'c'], 'hola', 'h', 'a', 'b', 'c', 'd', 'e', 'f', 1, 2, 3, 5, 67.89, 'GG', 2, 3, ['a', 'b', 'c'], 'hola', 'h', 'a', 'b', 'c', 'd', 'e', 'f', 1, 2, 3, 5, 67.89]\n"
     ]
    }
   ],
   "source": [
    "list_6 = list_1.copy()\n",
    "list_6.extend(list_5)\n",
    "print(list_6)"
   ]
  },
  {
   "cell_type": "code",
   "execution_count": 26,
   "metadata": {},
   "outputs": [],
   "source": [
    "list_1 = [1, 2, 3, 4, 5, 6]"
   ]
  },
  {
   "cell_type": "code",
   "execution_count": 27,
   "metadata": {},
   "outputs": [
    {
     "name": "stdout",
     "output_type": "stream",
     "text": [
      "[1, 2, 3, 4, 5, 6]\n",
      "[1, 2, 3, 4, 5]\n",
      "[1, 2, 4, 5]\n"
     ]
    }
   ],
   "source": [
    "#Metodo pop \n",
    "print(list_1)\n",
    "list_1.pop() #por defecto me elimina el ultimo \n",
    "print(list_1)\n",
    "list_1.pop(2)\n",
    "print(list_1)"
   ]
  },
  {
   "cell_type": "code",
   "execution_count": 28,
   "metadata": {},
   "outputs": [
    {
     "name": "stdout",
     "output_type": "stream",
     "text": [
      "[1, 4, 5]\n"
     ]
    }
   ],
   "source": [
    "#Metodo remove \n",
    "list_1.remove(2)\n",
    "print(list_1)"
   ]
  },
  {
   "cell_type": "code",
   "execution_count": 29,
   "metadata": {},
   "outputs": [],
   "source": [
    "list_2 = [1, 1, 2, 3, 4]"
   ]
  },
  {
   "cell_type": "code",
   "execution_count": 30,
   "metadata": {},
   "outputs": [
    {
     "name": "stdout",
     "output_type": "stream",
     "text": [
      "[1, 2, 3, 4]\n"
     ]
    }
   ],
   "source": [
    "list_2.remove(1)\n",
    "print(list_2)"
   ]
  },
  {
   "cell_type": "code",
   "execution_count": 36,
   "metadata": {},
   "outputs": [],
   "source": [
    "list_2 = [1, 1, 2, 3, 4]"
   ]
  },
  {
   "cell_type": "code",
   "execution_count": 32,
   "metadata": {},
   "outputs": [
    {
     "data": {
      "text/plain": [
       "2"
      ]
     },
     "execution_count": 32,
     "metadata": {},
     "output_type": "execute_result"
    }
   ],
   "source": [
    "# Metodo count \n",
    "list_2.count(1)"
   ]
  },
  {
   "cell_type": "code",
   "execution_count": 33,
   "metadata": {},
   "outputs": [
    {
     "data": {
      "text/plain": [
       "1"
      ]
     },
     "execution_count": 33,
     "metadata": {},
     "output_type": "execute_result"
    }
   ],
   "source": [
    "list_2.count(2)"
   ]
  },
  {
   "cell_type": "code",
   "execution_count": 37,
   "metadata": {},
   "outputs": [
    {
     "data": {
      "text/plain": [
       "0"
      ]
     },
     "execution_count": 37,
     "metadata": {},
     "output_type": "execute_result"
    }
   ],
   "source": [
    "list_2.index(1)"
   ]
  },
  {
   "cell_type": "code",
   "execution_count": null,
   "metadata": {},
   "outputs": [],
   "source": []
  }
 ],
 "metadata": {
  "kernelspec": {
   "display_name": "Mario",
   "language": "python",
   "name": "python3"
  },
  "language_info": {
   "codemirror_mode": {
    "name": "ipython",
    "version": 3
   },
   "file_extension": ".py",
   "mimetype": "text/x-python",
   "name": "python",
   "nbconvert_exporter": "python",
   "pygments_lexer": "ipython3",
   "version": "3.11.0"
  }
 },
 "nbformat": 4,
 "nbformat_minor": 2
}
