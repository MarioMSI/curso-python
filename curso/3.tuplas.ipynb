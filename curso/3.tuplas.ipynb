{
 "cells": [
  {
   "cell_type": "markdown",
   "metadata": {},
   "source": [
    "# TUPLAS"
   ]
  },
  {
   "cell_type": "markdown",
   "metadata": {},
   "source": [
    "Las tuplas en Python son estructuras de datos con las siguientes caracteristicas:  \n",
    "  \n",
    "🔵 Ordenada: Sus elementos están indexados  \n",
    "\n",
    "🟢 INmutables: Los elementos NO se pueden añadir, eliminar o modificar elementos  \n",
    "\n",
    "🔵 Dinámica: Puede contener diferentes tipos de datos en su interior incluidos objetos y datos multidimensionales además de otras tuplas  \n",
    "\n",
    "🟢 No única: Puede contener valores repetidos en su interior  "
   ]
  },
  {
   "cell_type": "code",
   "execution_count": 1,
   "metadata": {},
   "outputs": [],
   "source": [
    "# Crear una tupla vacia \n",
    "my_tuple = tuple()\n",
    "my_tuple = ()"
   ]
  },
  {
   "cell_type": "code",
   "execution_count": 2,
   "metadata": {},
   "outputs": [
    {
     "name": "stdout",
     "output_type": "stream",
     "text": [
      "(1, 2, 3, 'hola', 'equipo', 'bim')\n",
      "<class 'tuple'>\n",
      "6\n"
     ]
    }
   ],
   "source": [
    "# Crear tupla \n",
    "tuple_1 = (1, 2, 3, 'hola', 'equipo', 'bim')\n",
    "print(tuple_1)\n",
    "print(type(tuple_1))\n",
    "print(len(tuple_1))"
   ]
  },
  {
   "cell_type": "code",
   "execution_count": 3,
   "metadata": {},
   "outputs": [
    {
     "name": "stdout",
     "output_type": "stream",
     "text": [
      "<class 'tuple'>\n",
      "(2, 21, 2, 3, 'hola', 'equipo')\n"
     ]
    }
   ],
   "source": [
    "# Crear una tupla desde una lista \n",
    "list_1 = [2, 21, 2, 3, 'hola', 'equipo']\n",
    "tuple_2 = tuple(list_1)\n",
    "print(type(tuple_2))\n",
    "print(tuple_2)"
   ]
  },
  {
   "cell_type": "code",
   "execution_count": 4,
   "metadata": {},
   "outputs": [],
   "source": [
    "# Como hacer mutables las tuplas \n",
    "list_2 = list(tuple_2) #1. lo hago lista\n",
    "list_2[0] = 'primer elemento' # 2. Lo modifico \n",
    "tuple_2 = tuple(list_2) # 3 Lo vuelvo a hacer tupla "
   ]
  },
  {
   "cell_type": "code",
   "execution_count": 5,
   "metadata": {},
   "outputs": [
    {
     "name": "stdout",
     "output_type": "stream",
     "text": [
      "(1, 2, 3, 'hola')\n"
     ]
    }
   ],
   "source": [
    "# Slicing - igual que en listas\n",
    "tuple_3 = tuple_1[0:4]\n",
    "print(tuple_3)"
   ]
  },
  {
   "cell_type": "code",
   "execution_count": 6,
   "metadata": {},
   "outputs": [
    {
     "name": "stdout",
     "output_type": "stream",
     "text": [
      "(1, 2, 3, 'hola', 'equipo', 'bim', 1, 2, 3, 'hola')\n"
     ]
    }
   ],
   "source": [
    "# Concatenar varias tuplas \n",
    "tuple_4 = tuple_1 + tuple_3\n",
    "print(tuple_4)"
   ]
  },
  {
   "cell_type": "code",
   "execution_count": 8,
   "metadata": {},
   "outputs": [
    {
     "name": "stdout",
     "output_type": "stream",
     "text": [
      "2\n",
      "2\n"
     ]
    }
   ],
   "source": [
    "# Metodo count \n",
    "print(tuple_4.count('hola'))\n",
    "print(tuple_4.count(1))"
   ]
  },
  {
   "cell_type": "code",
   "execution_count": 9,
   "metadata": {},
   "outputs": [
    {
     "name": "stdout",
     "output_type": "stream",
     "text": [
      "3\n"
     ]
    }
   ],
   "source": [
    "# Acceder al index \n",
    "print(tuple_4.index('hola'))"
   ]
  },
  {
   "cell_type": "code",
   "execution_count": null,
   "metadata": {},
   "outputs": [],
   "source": []
  }
 ],
 "metadata": {
  "kernelspec": {
   "display_name": "Mario",
   "language": "python",
   "name": "python3"
  },
  "language_info": {
   "codemirror_mode": {
    "name": "ipython",
    "version": 3
   },
   "file_extension": ".py",
   "mimetype": "text/x-python",
   "name": "python",
   "nbconvert_exporter": "python",
   "pygments_lexer": "ipython3",
   "version": "3.11.0"
  }
 },
 "nbformat": 4,
 "nbformat_minor": 2
}
