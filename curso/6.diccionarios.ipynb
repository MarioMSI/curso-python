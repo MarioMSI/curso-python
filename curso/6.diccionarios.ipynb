{
 "cells": [
  {
   "cell_type": "markdown",
   "metadata": {},
   "source": [
    "# 6. DICCIONARIOS"
   ]
  },
  {
   "cell_type": "markdown",
   "metadata": {},
   "source": [
    "## Diccionarios  \n",
    "\n",
    "Los diccionarios tienen las siguientes caracteristicas:  \n",
    "\n",
    "🔵 Estructuras formadas por pares de Key:Value  \n",
    "  \n",
    "🟢 Ordenados: Los elementos están indexados a través de su key  \n",
    "  \n",
    "🔵 Mutables: Los elementos se pueden añadir, eliminar o modificar elementos  \n",
    "  \n",
    "🟢 Dinámicos: Puede contener diferentes tipos de datos en su interior incluidos objetos y datos multidimensionales además de otros diccionarios"
   ]
  },
  {
   "cell_type": "code",
   "execution_count": 1,
   "metadata": {},
   "outputs": [],
   "source": [
    "# Crear un diccionario vacio\n",
    "dict_1 = dict()\n",
    "dict_2 = {}"
   ]
  },
  {
   "cell_type": "code",
   "execution_count": 2,
   "metadata": {},
   "outputs": [],
   "source": [
    "#Crear diccionario \n",
    "dict_1 = {\n",
    "    'Name' : 'Muro', \n",
    "    'Type' : 'IfcWall', \n",
    "    'PredefinedType' : 'NOTDEFINED', \n",
    "    'RelatedWith' : [2, 4, 7, 19]\n",
    "}\n",
    "\n",
    "dict_2 = dict([\n",
    "    ('Name', 'Losa'), \n",
    "    ('Type', 'IfcSlab'), \n",
    "    ('PredefinedType', 'NOTDEFINED'), \n",
    "    ('RelatedWith', [2,3,5,10])\n",
    "])\n",
    "\n",
    "dict_3 = dict(\n",
    "    Name='Carril', \n",
    "    Type = 'IfcRail', \n",
    "    PredefinedType = 'NOTDEFINED', \n",
    "    RelatedWith = [1, 2, 4, 6]\n",
    ")"
   ]
  },
  {
   "cell_type": "code",
   "execution_count": 3,
   "metadata": {},
   "outputs": [
    {
     "name": "stdout",
     "output_type": "stream",
     "text": [
      "{'Name': 'Muro', 'Type': 'IfcWall', 'PredefinedType': 'NOTDEFINED', 'RelatedWith': [2, 4, 7, 19]}\n",
      "{'Name': 'Losa', 'Type': 'IfcSlab', 'PredefinedType': 'NOTDEFINED', 'RelatedWith': [2, 3, 5, 10]}\n",
      "{'Name': 'Carril', 'Type': 'IfcRail', 'PredefinedType': 'NOTDEFINED', 'RelatedWith': [1, 2, 4, 6]}\n"
     ]
    }
   ],
   "source": [
    "#Crear diccionario \n",
    "pred_type = 'NOTDEFINED'\n",
    "types = ['IfcWall', 'IfcSlab', 'IfcRail']\n",
    "\n",
    "dict_1 = {\n",
    "    'Name' : 'Muro', \n",
    "    'Type' : types[0], \n",
    "    'PredefinedType' : pred_type, \n",
    "    'RelatedWith' : [2, 4, 7, 19]\n",
    "}\n",
    "\n",
    "dict_2 = dict([\n",
    "    ('Name', 'Losa'), \n",
    "    ('Type', types[1]), \n",
    "    ('PredefinedType', pred_type), \n",
    "    ('RelatedWith', [2,3,5,10])\n",
    "])\n",
    "\n",
    "dict_3 = dict(\n",
    "    Name='Carril', \n",
    "    Type = types[2], \n",
    "    PredefinedType = pred_type, \n",
    "    RelatedWith = [1, 2, 4, 6]\n",
    ")\n",
    "\n",
    "print(dict_1)\n",
    "print(dict_2)\n",
    "print(dict_3)"
   ]
  },
  {
   "cell_type": "code",
   "execution_count": 4,
   "metadata": {},
   "outputs": [
    {
     "name": "stdout",
     "output_type": "stream",
     "text": [
      "{'Name': 'Carril', 'Type': 'IfcRail', 'PredefinedType': 'NOTDEFINED', 'RelatedWith': [1, 2, 4, 6], 'RelatedTo': (23, 45, 1)}\n"
     ]
    }
   ],
   "source": [
    "dict_3['RelatedTo'] = (23, 45 , 1)\n",
    "print(dict_3)"
   ]
  },
  {
   "cell_type": "code",
   "execution_count": 5,
   "metadata": {},
   "outputs": [
    {
     "name": "stdout",
     "output_type": "stream",
     "text": [
      "2\n",
      "5\n"
     ]
    }
   ],
   "source": [
    "list_1 = [1 , 2, 3, 4]\n",
    "tup_1 = (1, 3, 5)\n",
    "\n",
    "print(list_1[1])\n",
    "print(tup_1[2])"
   ]
  },
  {
   "cell_type": "code",
   "execution_count": 6,
   "metadata": {},
   "outputs": [
    {
     "name": "stdout",
     "output_type": "stream",
     "text": [
      "[1, 'hola', 3, 4]\n"
     ]
    }
   ],
   "source": [
    "list_1[1] = 'hola'\n",
    "print(list_1)"
   ]
  },
  {
   "cell_type": "code",
   "execution_count": 7,
   "metadata": {},
   "outputs": [
    {
     "name": "stdout",
     "output_type": "stream",
     "text": [
      "{'Name': 'Carril', 'Type': 'IfcRail', 'PredefinedType': 'NOTDEFINED', 'RelatedWith': [1, 2, 4, 6], 'RelatedTo': (23, 45, 1), 'pset': {'PROYECTO': 'AAA1', 'UBICACION': 'MADRID'}}\n"
     ]
    }
   ],
   "source": [
    "pset_dict = {\n",
    "    'PROYECTO' : 'AAA1', \n",
    "    'UBICACION' : 'MADRID'\n",
    "}\n",
    "\n",
    "dict_3['pset'] = pset_dict\n",
    "\n",
    "print(dict_3)"
   ]
  },
  {
   "cell_type": "code",
   "execution_count": 8,
   "metadata": {},
   "outputs": [
    {
     "data": {
      "text/plain": [
       "'AAA1'"
      ]
     },
     "execution_count": 8,
     "metadata": {},
     "output_type": "execute_result"
    }
   ],
   "source": [
    "#Acceder a valores dentro de diccionarios \n",
    "\n",
    "dict_3['pset']['PROYECTO']"
   ]
  },
  {
   "cell_type": "code",
   "execution_count": 9,
   "metadata": {},
   "outputs": [
    {
     "name": "stdout",
     "output_type": "stream",
     "text": [
      "dict_keys(['Name', 'Type', 'PredefinedType', 'RelatedWith', 'RelatedTo', 'pset'])\n",
      "dict_values(['Carril', 'IfcRail', 'NOTDEFINED', [1, 2, 4, 6], (23, 45, 1), {'PROYECTO': 'AAA1', 'UBICACION': 'MADRID'}])\n",
      "dict_keys(['PROYECTO', 'UBICACION'])\n",
      "dict_values(['AAA1', 'MADRID'])\n",
      "-------------------------------------\n",
      "['Name', 'Type', 'PredefinedType', 'RelatedWith', 'RelatedTo', ['PROYECTO', 'UBICACION']]\n",
      "['Carril', 'IfcRail', 'NOTDEFINED', [1, 2, 4, 6], (23, 45, 1), ['AAA1', 'MADRID']]\n"
     ]
    }
   ],
   "source": [
    "print(dict_3.keys())\n",
    "print(dict_3.values())\n",
    "\n",
    "print(dict_3['pset'].keys())\n",
    "print(dict_3['pset'].values())\n",
    "\n",
    "print('-------------------------------------')\n",
    "\n",
    "dict_3_list_keys = list(dict_3.keys())\n",
    "dict_3_list_values = list(dict_3.values())\n",
    "\n",
    "pset_list_keys = list(dict_3['pset'].keys())\n",
    "pset_list_values = list(dict_3['pset'].values())\n",
    "\n",
    "\n",
    "dict_3_list_keys[-1] = pset_list_keys\n",
    "dict_3_list_values[-1] = pset_list_values\n",
    "\n",
    "print(dict_3_list_keys)\n",
    "print(dict_3_list_values)"
   ]
  },
  {
   "cell_type": "code",
   "execution_count": 10,
   "metadata": {},
   "outputs": [
    {
     "name": "stdout",
     "output_type": "stream",
     "text": [
      "{'Name': 'Muro', 'Type': 'IfcWall', 'PredefinedType': 'NOTDEFINED', 'RelatedWith': [2, 4, 7, 19]}\n"
     ]
    }
   ],
   "source": [
    "print(dict_1)"
   ]
  },
  {
   "cell_type": "code",
   "execution_count": 11,
   "metadata": {},
   "outputs": [
    {
     "name": "stdout",
     "output_type": "stream",
     "text": [
      "{'Name': 'Muro', 'Type': 'IfcWall', 'PredefinedType': 'NOTDEFINED', 'RelatedWith': [2, 5, 6, 8], 'OwnerHistory': 'None'}\n"
     ]
    }
   ],
   "source": [
    "# Actualizar un diccionario \n",
    "\n",
    "dict_5 = {\n",
    "'Name': 'Muro',\n",
    "'Type': 'IfcWall',\n",
    "'PredefinedType': 'NOTDEFINED',\n",
    "'RelatedWith': [2, 5, 6, 8],\n",
    "'OwnerHistory': 'None'\n",
    "}\n",
    "\n",
    "dict_1.update(dict_5)\n",
    "print(dict_1)"
   ]
  },
  {
   "cell_type": "code",
   "execution_count": 12,
   "metadata": {},
   "outputs": [
    {
     "name": "stdout",
     "output_type": "stream",
     "text": [
      "{'Name': 'Carril', 'Type': 'IfcRail', 'PredefinedType': 'NOTDEFINED', 'RelatedWith': [1, 2, 4, 6], 'RelatedTo': (23, 45, 1), 'pset': {'PROYECTO': 'AAA1', 'UBICACION': 'MADRID'}}\n"
     ]
    }
   ],
   "source": [
    "print(dict_3)"
   ]
  },
  {
   "cell_type": "code",
   "execution_count": 13,
   "metadata": {},
   "outputs": [
    {
     "data": {
      "text/plain": [
       "'MADRID'"
      ]
     },
     "execution_count": 13,
     "metadata": {},
     "output_type": "execute_result"
    }
   ],
   "source": [
    "dict_3['pset']['UBICACION']"
   ]
  },
  {
   "cell_type": "code",
   "execution_count": null,
   "metadata": {},
   "outputs": [],
   "source": []
  }
 ],
 "metadata": {
  "kernelspec": {
   "display_name": "Mario",
   "language": "python",
   "name": "python3"
  },
  "language_info": {
   "codemirror_mode": {
    "name": "ipython",
    "version": 3
   },
   "file_extension": ".py",
   "mimetype": "text/x-python",
   "name": "python",
   "nbconvert_exporter": "python",
   "pygments_lexer": "ipython3",
   "version": "3.11.0"
  }
 },
 "nbformat": 4,
 "nbformat_minor": 2
}
