{
 "cells": [
  {
   "cell_type": "markdown",
   "metadata": {},
   "source": [
    "# 7. Bucles  \n",
    "  \n",
    "Los bucles nos permitirán recorren las estructuras de datos que hemos visto hasta ahora, principalmente listas y diccionarios.  \n",
    "  \n",
    "Su principal caso de uso es el de aplicar una acción en un conjunto de datos, sin necesariamente saber cuales son. \n",
    "  \n",
    "Los bucles que tenemos son: \n",
    "- for  \n",
    "- while  \n",
    "  \n",
    "### Bucle for  \n",
    "  \n",
    "Se realiza una iteración por todos los elementos y se ejecutan diferentes acciones.  \n",
    "  \n",
    " for elemento dentro_de_un_conjunto:\n",
    "    Accion a realizar\n",
    "   \n",
    "![image.png](attachment:image.png)\n",
    "\n",
    "### Bucle while  \n",
    "  \n",
    "Es bueno cuando queremos hacer un bucle hasta que se cumpla una condición.  \n",
    " while se_cumpla_una_condicion:\n",
    "    acción a realizar  \n",
    "\n",
    "![image-2.png](attachment:image-2.png)"
   ]
  },
  {
   "cell_type": "code",
   "execution_count": null,
   "metadata": {},
   "outputs": [],
   "source": [
    "# crearos 2 listas con 5 elementos cada una \n",
    "# después las unis \n",
    "# después eliminamos el ultimo elemento "
   ]
  },
  {
   "cell_type": "code",
   "execution_count": 5,
   "metadata": {},
   "outputs": [
    {
     "name": "stdout",
     "output_type": "stream",
     "text": [
      "['el1', 'el2', 'el3', 'el4', 'el6', '1', [1, 2], 3, 4, (5, 6)]\n",
      "['el1', 'el2', 'el3', 'el4', 'el6', '1', [1, 2], 3, 4]\n",
      "[(3, 4), 'el2', 'el3', 'el4', 'el6', '1', [1, 2], 3, 4]\n"
     ]
    }
   ],
   "source": [
    "list_1 = ['el1', 'el2', 'el3', 'el4', 'el6']\n",
    "list_2 = ['1', [1, 2], 3, 4, (5, 6)]\n",
    "list_union = list_1 + list_2\n",
    "print(list_union)\n",
    "list_union.pop(-1)\n",
    "print(list_union)\n",
    "list_union[0] = (3,4)\n",
    "print(list_union)"
   ]
  },
  {
   "cell_type": "code",
   "execution_count": 6,
   "metadata": {},
   "outputs": [],
   "source": [
    "elementos = list_union"
   ]
  },
  {
   "cell_type": "code",
   "execution_count": 11,
   "metadata": {},
   "outputs": [
    {
     "name": "stdout",
     "output_type": "stream",
     "text": [
      "(3, 4)\n",
      "--------\n",
      "el2\n",
      "--------\n",
      "el3\n",
      "--------\n",
      "el4\n",
      "--------\n",
      "el6\n",
      "--------\n",
      "1\n",
      "--------\n",
      "[1, 2]\n",
      "--------\n",
      "3\n",
      "6\n",
      "--------\n",
      "4\n",
      "8\n",
      "--------\n"
     ]
    }
   ],
   "source": [
    "for el in elementos:\n",
    "    print(el)\n",
    "    if type(el)==int:\n",
    "        print(el*2)\n",
    "        \n",
    "    print('--------')"
   ]
  },
  {
   "cell_type": "code",
   "execution_count": 12,
   "metadata": {},
   "outputs": [
    {
     "name": "stdout",
     "output_type": "stream",
     "text": [
      "0\n",
      "2\n",
      "4\n",
      "6\n",
      "8\n",
      "10\n",
      "12\n",
      "14\n",
      "16\n",
      "18\n"
     ]
    }
   ],
   "source": [
    "for i in range(0, 20, 2):\n",
    "    print(i)"
   ]
  },
  {
   "cell_type": "code",
   "execution_count": 13,
   "metadata": {},
   "outputs": [
    {
     "name": "stdout",
     "output_type": "stream",
     "text": [
      "0\n",
      "1\n",
      "2\n",
      "3\n",
      "4\n",
      "5\n",
      "6\n",
      "7\n",
      "8\n",
      "9\n",
      "10\n",
      "11\n",
      "12\n",
      "13\n",
      "14\n",
      "15\n",
      "16\n",
      "17\n",
      "18\n",
      "19\n"
     ]
    }
   ],
   "source": [
    "for i in range(0, 20):\n",
    "    print(i)"
   ]
  },
  {
   "cell_type": "code",
   "execution_count": 14,
   "metadata": {},
   "outputs": [
    {
     "name": "stdout",
     "output_type": "stream",
     "text": [
      "0\n",
      "1\n",
      "2\n",
      "3\n",
      "4\n",
      "5\n",
      "6\n",
      "7\n",
      "8\n",
      "9\n",
      "10\n",
      "11\n",
      "12\n",
      "13\n",
      "14\n",
      "15\n",
      "16\n",
      "17\n",
      "18\n",
      "19\n"
     ]
    }
   ],
   "source": [
    "for i in range(20):\n",
    "    print(i)"
   ]
  },
  {
   "cell_type": "code",
   "execution_count": 17,
   "metadata": {},
   "outputs": [
    {
     "name": "stdout",
     "output_type": "stream",
     "text": [
      "0\n",
      "(3, 4)\n",
      "-----\n",
      "1\n",
      "el2\n",
      "-----\n",
      "2\n",
      "el3\n",
      "-----\n",
      "3\n",
      "el4\n",
      "-----\n",
      "4\n",
      "el6\n",
      "-----\n",
      "5\n",
      "1\n",
      "-----\n",
      "6\n",
      "[1, 2]\n",
      "-----\n",
      "7\n",
      "3\n",
      "-----\n",
      "8\n",
      "4\n",
      "-----\n"
     ]
    }
   ],
   "source": [
    "for i in range(len(elementos)):\n",
    "    print(i)\n",
    "    print(elementos[i])\n",
    "    print('-----')"
   ]
  },
  {
   "cell_type": "code",
   "execution_count": null,
   "metadata": {},
   "outputs": [],
   "source": []
  }
 ],
 "metadata": {
  "kernelspec": {
   "display_name": "Mario",
   "language": "python",
   "name": "python3"
  },
  "language_info": {
   "codemirror_mode": {
    "name": "ipython",
    "version": 3
   },
   "file_extension": ".py",
   "mimetype": "text/x-python",
   "name": "python",
   "nbconvert_exporter": "python",
   "pygments_lexer": "ipython3",
   "version": "3.11.0"
  }
 },
 "nbformat": 4,
 "nbformat_minor": 2
}
