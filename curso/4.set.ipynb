{
 "cells": [
  {
   "cell_type": "markdown",
   "metadata": {},
   "source": [
    "# SET "
   ]
  },
  {
   "cell_type": "markdown",
   "metadata": {},
   "source": [
    "## Set  \n",
    "  \n",
    "Los set en Python son estructuras de datos con las siguientes caracteristicas:  \n",
    "  \n",
    "🔵 Aleatorio: Sus elementos no mantienen el orden cuando son declarados \n",
    "\n",
    "🟢 Parcialmente inmutables: Los elementos se pueden añadir, eliminar pero no modificar elementos   \n",
    "\n",
    "🔵 Parcialmente dinámica: Puede contener diferentes tipos de datos en su interior incluidos objetos y datos multidimensionales además de otros set, pero no puede contener datos que sean mutables como listas o diccionarios \n",
    "\n",
    "🟢 Valores únicos: Solo contiene valores únicos "
   ]
  },
  {
   "cell_type": "code",
   "execution_count": 1,
   "metadata": {},
   "outputs": [],
   "source": [
    "# Crear un set vacio \n",
    "set_1 = set()\n",
    "set_1 = {}"
   ]
  },
  {
   "cell_type": "code",
   "execution_count": 3,
   "metadata": {},
   "outputs": [
    {
     "name": "stdout",
     "output_type": "stream",
     "text": [
      "{1, 'h', 4, 5, 6, 'h ', 'hola', 'Hola'}\n"
     ]
    }
   ],
   "source": [
    "# Crear un set \n",
    "set_1 = {1, 1, 4, 4, 5, 6, 'Hola', 'hola', 'h ', 'h'}\n",
    "print(set_1)"
   ]
  },
  {
   "cell_type": "code",
   "execution_count": 10,
   "metadata": {},
   "outputs": [
    {
     "name": "stdout",
     "output_type": "stream",
     "text": [
      "{1, 2, 3, (2, 1)}\n"
     ]
    },
    {
     "ename": "TypeError",
     "evalue": "unhashable type: 'list'",
     "output_type": "error",
     "traceback": [
      "\u001b[1;31m---------------------------------------------------------------------------\u001b[0m",
      "\u001b[1;31mTypeError\u001b[0m                                 Traceback (most recent call last)",
      "Cell \u001b[1;32mIn[10], line 5\u001b[0m\n\u001b[0;32m      3\u001b[0m set_4 \u001b[38;5;241m=\u001b[39m \u001b[38;5;28mset\u001b[39m(list_1)\n\u001b[0;32m      4\u001b[0m \u001b[38;5;28mprint\u001b[39m(set_4)\n\u001b[1;32m----> 5\u001b[0m set_3 \u001b[38;5;241m=\u001b[39m {list_1}\n\u001b[0;32m      7\u001b[0m \u001b[38;5;28mprint\u001b[39m\n",
      "\u001b[1;31mTypeError\u001b[0m: unhashable type: 'list'"
     ]
    }
   ],
   "source": [
    "#Crear un set desde una lista \n",
    "list_1 = [1, 1,2,3, (2,1)]\n",
    "set_4 = set(list_1)\n",
    "print(set_4)\n",
    "set_3 = {list_1}"
   ]
  },
  {
   "cell_type": "code",
   "execution_count": 12,
   "metadata": {},
   "outputs": [
    {
     "name": "stdout",
     "output_type": "stream",
     "text": [
      "True\n",
      "False\n"
     ]
    }
   ],
   "source": [
    "#Comprobar si los elementos están dentro de un set \n",
    "print(1 in set_1)\n",
    "print(10 in set_1)"
   ]
  },
  {
   "cell_type": "code",
   "execution_count": 16,
   "metadata": {},
   "outputs": [
    {
     "name": "stdout",
     "output_type": "stream",
     "text": [
      "{1, 'h', 4, 5, 6, 'h ', 'hola', 'Hola'}\n"
     ]
    }
   ],
   "source": [
    "#Añadirlos \n",
    "set_1.add(5)\n",
    "print(set_1)"
   ]
  },
  {
   "cell_type": "code",
   "execution_count": 20,
   "metadata": {},
   "outputs": [
    {
     "name": "stdout",
     "output_type": "stream",
     "text": [
      "{'h', 5, 6, 'h ', 'hola', 'Hola'}\n"
     ]
    },
    {
     "ename": "KeyError",
     "evalue": "1",
     "output_type": "error",
     "traceback": [
      "\u001b[1;31m---------------------------------------------------------------------------\u001b[0m",
      "\u001b[1;31mKeyError\u001b[0m                                  Traceback (most recent call last)",
      "Cell \u001b[1;32mIn[20], line 7\u001b[0m\n\u001b[0;32m      3\u001b[0m \u001b[38;5;28mprint\u001b[39m(set_1)\n\u001b[0;32m      5\u001b[0m set_1\u001b[38;5;241m.\u001b[39mdiscard(\u001b[38;5;241m1\u001b[39m)\n\u001b[1;32m----> 7\u001b[0m \u001b[43mset_1\u001b[49m\u001b[38;5;241;43m.\u001b[39;49m\u001b[43mremove\u001b[49m\u001b[43m(\u001b[49m\u001b[38;5;241;43m1\u001b[39;49m\u001b[43m)\u001b[49m\n",
      "\u001b[1;31mKeyError\u001b[0m: 1"
     ]
    }
   ],
   "source": [
    "#Eliminar elementos \n",
    "set_1.remove(4) \n",
    "print(set_1)\n",
    "\n",
    "set_1.discard(1)\n",
    "\n",
    "set_1.remove(1)\n",
    "\n"
   ]
  },
  {
   "cell_type": "code",
   "execution_count": 21,
   "metadata": {},
   "outputs": [
    {
     "name": "stdout",
     "output_type": "stream",
     "text": [
      "{1, 2, 3, 4, 5, 6}\n",
      "{2, 3}\n"
     ]
    }
   ],
   "source": [
    "# Uniones e intersecciones \n",
    "set_1 = {1, 2, 3, 4}\n",
    "set_2 = {2, 3, 5, 6 }\n",
    "set_3 = set_1.union(set_2)\n",
    "print(set_3)\n",
    "set_4 = set_1.intersection(set_2)\n",
    "print(set_4)"
   ]
  },
  {
   "cell_type": "code",
   "execution_count": null,
   "metadata": {},
   "outputs": [],
   "source": []
  }
 ],
 "metadata": {
  "kernelspec": {
   "display_name": "Mario",
   "language": "python",
   "name": "python3"
  },
  "language_info": {
   "codemirror_mode": {
    "name": "ipython",
    "version": 3
   },
   "file_extension": ".py",
   "mimetype": "text/x-python",
   "name": "python",
   "nbconvert_exporter": "python",
   "pygments_lexer": "ipython3",
   "version": "3.11.0"
  }
 },
 "nbformat": 4,
 "nbformat_minor": 2
}
