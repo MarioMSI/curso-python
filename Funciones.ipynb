{
 "cells": [
  {
   "cell_type": "code",
   "execution_count": null,
   "metadata": {},
   "outputs": [],
   "source": []
  },
  {
   "cell_type": "markdown",
   "metadata": {},
   "source": [
    "# Funciones\n",
    "\n",
    "## ¿Qué es una función?\n"
   ]
  },
  {
   "cell_type": "markdown",
   "metadata": {},
   "source": [
    "## ¿Qué es una función?  \n",
    "Una función es un bloque de código que usamos para realizar una acción repetidas ocasiones"
   ]
  },
  {
   "cell_type": "code",
   "execution_count": null,
   "metadata": {},
   "outputs": [],
   "source": [
    "# creamos una función \n",
    "def funcion_1(a,b): \n",
    "    c=a+b\n",
    "    print(f'el resultado es {c}'\n",
    "    return c"
   ]
  },
  {
   "cell_type": "markdown",
   "metadata": {},
   "source": [
    "### ¿que es todo eso?  \n",
    "  \n",
    "<font color=\"Pink\">def:</font> Palabra clave para generar función  \n",
    "<font color=\"Green\">funcion_1:</font> el nombre de la función  \n",
    "<font color=\"Orange\">(a,b):</font> las variables de entrada a la función  \n",
    "<font color=\"Orange\">c=a+b:</font> las sentencias de codigo que se van a ejecutar  \n",
    "<font color=\"Green\">print(f'el resultado es {c}':</font> las sentencias de codigo que se van a ejecutar  \n",
    "<font color=\"Pink\">return:</font> palabra clave para asignar una salida de la función a una variable concreta"
   ]
  },
  {
   "cell_type": "markdown",
   "metadata": {},
   "source": []
  }
 ],
 "metadata": {
  "language_info": {
   "name": "python"
  },
  "orig_nbformat": 4
 },
 "nbformat": 4,
 "nbformat_minor": 2
}
