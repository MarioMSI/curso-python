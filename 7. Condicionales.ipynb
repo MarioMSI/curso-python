{
 "cells": [
  {
   "cell_type": "markdown",
   "metadata": {},
   "source": [
    "# 7. Condicionales"
   ]
  },
  {
   "cell_type": "markdown",
   "metadata": {},
   "source": [
    "La estructura de condicional es:  \n",
    "  \n",
    "if (prueba de valor):               # Primera condición, si se cumple, salimos del programa al acabar el bloque de código. el resultado de la prueba de valor tiene que ser un bool.  \n",
    "    bloque de código                  \n",
    "elif (Prueba de valor 2):           # Segunda condición,   \n",
    "    bloque de código 2  \n",
    "else:                               # Si no se ha cumplido lo anterior, se ejecutará esto, por lo tanto no es necesario prueba de valor. No es obligatorio ponerlo si no queremos que se ejecute una acción  \n",
    "    bloque de código 3  "
   ]
  },
  {
   "cell_type": "code",
   "execution_count": null,
   "metadata": {},
   "outputs": [],
   "source": [
    "#La estructura de condicional es:  \n",
    "  \n",
    "if (prueba de valor):               # Primera condición, si se cumple, salimos del programa al acabar el bloque de código. el resultado de la prueba de valor tiene que ser un bool.  \n",
    "    bloque de código                  \n",
    "elif (Prueba de valor 2):           # Segunda condición,   \n",
    "    bloque de código 2  \n",
    "else:                               # Si no se ha cumplido lo anterior, se ejecutará esto, por lo tanto no es necesario prueba de valor. No es obligatorio ponerlo si no queremos que se ejecute una acción  \n",
    "    bloque de código 3  "
   ]
  },
  {
   "cell_type": "markdown",
   "metadata": {},
   "source": [
    "### Ejercicio 1.  \n",
    "  \n",
    "Creamos un programa que pida por pantalla tu edad, y calcule si eres mayor de edad o no. "
   ]
  },
  {
   "cell_type": "code",
   "execution_count": 3,
   "metadata": {},
   "outputs": [
    {
     "name": "stdout",
     "output_type": "stream",
     "text": [
      "Menor de edad\n"
     ]
    }
   ],
   "source": [
    "tu_edad = int(input('Introduce tu edad:'))\n",
    "if tu_edad > 18:\n",
    "    print('Mayor de edad')\n",
    "else:\n",
    "    print('Menor de edad')\n",
    "\n",
    "    "
   ]
  },
  {
   "cell_type": "markdown",
   "metadata": {},
   "source": [
    "### Ejercicio 2.  \n",
    "  \n",
    "Los tipos impositivos son los siguientes:  \n",
    "  \n",
    "|   Renta   |\tTipo impositivo | Tramo |\n",
    "|---|---|---|\n",
    "|   Menos de 10000€\t|   5% |Tramo 1|\n",
    "|   Entre 10000€ y 20000€\t|   15%    |Tramo 2|\n",
    "|   Entre 20000€ y 35000€\t|   20%    |Tramo 3|\n",
    "|   Entre 35000€ y 60000€\t|   30%    |Tramo 4|\n",
    "|   Más de 60000€\t|   45% | Tramo 5|\n",
    "  \n",
    "Hacer lo siguiente: \n",
    "\n",
    "- Un programa que pida por pantalla al usuario su renta anual y devuelva el tipo que tiene que tributar   \n",
    "  \n"
   ]
  },
  {
   "cell_type": "markdown",
   "metadata": {},
   "source": [
    "### Ejercicio 3  \n",
    "Para el ejercicio anterior, realizar lo siguiente: \n",
    "1. Crear un diccionario que tenga los tramos como keys y los Tipos impositivos como value  \n",
    "2. Modificar el código del ejercicio 2 para que se devuelva el valor a través del diccionario que hemos creado  \n",
    "  \n",
    "Extra:  \n",
    "Que se devuelva el calculo.  "
   ]
  },
  {
   "cell_type": "code",
   "execution_count": 1,
   "metadata": {},
   "outputs": [],
   "source": [
    "dicc_tramos = {\n",
    "    'Tramo 1': [10000,5], \n",
    "    'Tramo 2': [20000,15], \n",
    "    'Tramo 3': [35000,20], \n",
    "    'Tramo 4': [60000,30], \n",
    "    'Tramo 5': [-1, 45]\n",
    "}"
   ]
  },
  {
   "cell_type": "markdown",
   "metadata": {},
   "source": [
    "MODIFICAR LO DE LOS PORCENTAJES EN STRING  \n",
    "ENCAPSULAR LA FUNCIÓN PRINT  \n",
    "RETURN DE LOS VALORES, return valor    \n",
    "revisar lo de importar funciones  \n",
    "  \n",
    "    ------------------------------------------------------------"
   ]
  },
  {
   "cell_type": "markdown",
   "metadata": {},
   "source": [
    "### Ejercicio 4. \n",
    "  \n",
    "Hay que crear el sistema de control de un reactor nuclear.  \n",
    "   \n",
    "1. Comprobación de la criticidad  \n",
    "Lo primero que tiene que hacer un sistema de control es comprobar si el reactor está equilibrado en criticidad. Se dice que un reactor es crítico si cumple las siguientes condiciones:  \n",
    "  \n",
    "La temperatura es inferior a 800 K.  \n",
    "El número de neutrones emitidos por segundo es superior a 500.  \n",
    "El producto de la temperatura y los neutrones emitidos por segundo es inferior a 500000.  \n",
    "  \n",
    "El programa cogerá el valor de temperatura y número de neutrones y devolverá si es o no crítico  \n",
    "  \n"
   ]
  },
  {
   "cell_type": "markdown",
   "metadata": {},
   "source": [
    "## Ejercicio 5."
   ]
  },
  {
   "cell_type": "code",
   "execution_count": null,
   "metadata": {},
   "outputs": [],
   "source": [
    "#gestor de clientes \n",
    "#que pida una accion \n",
    "#introducir el nombre de cliente\n",
    "#el dato que desea cambiar (fecha nombre )\n",
    "# https://www.youtube.com/watch?v=knxPJdk--Ik 16:10"
   ]
  },
  {
   "cell_type": "code",
   "execution_count": null,
   "metadata": {},
   "outputs": [],
   "source": [
    "dic_contraseñas {\n",
    "    'Mario': '0123',\n",
    "    'Rosa': '1234',\n",
    "    'Nacho': '2345'\n",
    "}\n",
    "\n",
    "name_contr = str(input('introduce tu nombre'))\n",
    "if name_contr in dic_contraseñas: \n",
    "    contr = str(input('Introduce tu contraseña'))\n",
    "    if contr == dic_contraseñas[name_contr]:\n",
    "        print('Esa es tu contraseña!')\n",
    "    else:\n",
    "        print('tu contraseña no es correcta!')\n",
    "\n",
    "else: \n",
    "    print('nombre no encontrado!')"
   ]
  }
 ],
 "metadata": {
  "kernelspec": {
   "display_name": "Mario",
   "language": "python",
   "name": "python3"
  },
  "language_info": {
   "codemirror_mode": {
    "name": "ipython",
    "version": 3
   },
   "file_extension": ".py",
   "mimetype": "text/x-python",
   "name": "python",
   "nbconvert_exporter": "python",
   "pygments_lexer": "ipython3",
   "version": "3.11.0"
  }
 },
 "nbformat": 4,
 "nbformat_minor": 2
}
