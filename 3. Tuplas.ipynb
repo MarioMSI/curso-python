{
 "cells": [
  {
   "cell_type": "markdown",
   "metadata": {},
   "source": [
    "# 3. Tuplas"
   ]
  },
  {
   "cell_type": "markdown",
   "metadata": {},
   "source": [
    "## Tuplas  \n",
    "  \n",
    "Las tuplas en Python son estructuras de datos con las siguientes caracteristicas:  \n",
    "  \n",
    "🔵 Ordenada: Sus elementos están indexados  \n",
    "\n",
    "🟢 INmutables: Los elementos NO se pueden añadir, eliminar o modificar elementos  \n",
    "\n",
    "🔵 Dinámica: Puede contener diferentes tipos de datos en su interior incluidos objetos y datos multidimensionales además de otras tuplas  \n",
    "\n",
    "🟢 No única: Puede contener valores repetidos en su interior  "
   ]
  },
  {
   "cell_type": "code",
   "execution_count": null,
   "metadata": {},
   "outputs": [],
   "source": [
    "#Crear tupla vacia\n",
    "tuple_1 = tuple()\n",
    "tuple_1 = ()"
   ]
  },
  {
   "cell_type": "code",
   "execution_count": null,
   "metadata": {},
   "outputs": [],
   "source": [
    "#Crear tuplas\n",
    "tuple_1 = (1, 2, 'hola', 'mundo', 'ggg', 1, 1)\n",
    "print(tuple_1)\n",
    "print(len(tuple_1))"
   ]
  },
  {
   "cell_type": "code",
   "execution_count": null,
   "metadata": {},
   "outputs": [],
   "source": [
    "#Podemos acceder a valores de la tupla\n",
    "\n",
    "print(tuple_1[0])\n",
    "print(tuple_1[1])\n",
    "print(tuple_1[3])\n",
    "print(tuple_1[-1])"
   ]
  },
  {
   "cell_type": "code",
   "execution_count": null,
   "metadata": {},
   "outputs": [],
   "source": [
    "#No podemos modificar valores\n",
    "\n",
    "tuple_1[1] = 1"
   ]
  },
  {
   "cell_type": "code",
   "execution_count": null,
   "metadata": {},
   "outputs": [],
   "source": [
    "#Haciendo mutables las tuplas \n",
    "list_1 = list(tuple_1)\n",
    "print(type(list_1))\n",
    "\n",
    "list_1[1] = 'Mario'\n",
    "tuple_1 = tuple(list_1)\n",
    "print(type(tuple_1))"
   ]
  },
  {
   "cell_type": "code",
   "execution_count": null,
   "metadata": {},
   "outputs": [],
   "source": [
    "#Subtuplas\n",
    "#incluido, sin incluir\n",
    "\n",
    "tuple_4 = tuple_1[0:3]\n",
    "print(tuple_4)\n",
    "print(len(tuple_4))"
   ]
  },
  {
   "cell_type": "code",
   "execution_count": null,
   "metadata": {},
   "outputs": [],
   "source": [
    "#Concatenación de tuplas\n",
    "#no es como modificar una tupla y añadir una, el proceso es crear una nueva tupla\n",
    "#que contenga a las dos anteriores\n",
    "\n",
    "tuple_2 = (2, 4, 'h', 'o', 'l', 'a')\n",
    "tuple_3 = tuple_1 + tuple_2"
   ]
  },
  {
   "cell_type": "code",
   "execution_count": null,
   "metadata": {},
   "outputs": [],
   "source": [
    "#Metodo count\n",
    "#Cuenta el numero de veces que se repite un determinado valor\n",
    "\n",
    "print(tuple_1.count(1))"
   ]
  },
  {
   "cell_type": "code",
   "execution_count": null,
   "metadata": {},
   "outputs": [],
   "source": [
    "#Metodo index\n",
    "#Devuelve el indice de un valor dentro de la tupla\n",
    "\n",
    "print(tuple_1.index(1))"
   ]
  }
 ],
 "metadata": {
  "language_info": {
   "name": "python"
  },
  "orig_nbformat": 4
 },
 "nbformat": 4,
 "nbformat_minor": 2
}
