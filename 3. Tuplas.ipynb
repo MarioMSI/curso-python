{
 "cells": [
  {
   "cell_type": "markdown",
   "metadata": {},
   "source": [
    "# 3. Tuplas"
   ]
  },
  {
   "cell_type": "markdown",
   "metadata": {},
   "source": [
    "## Tuplas  \n",
    "  \n",
    "Las tuplas en Python son estructuras de datos con las siguientes caracteristicas:  \n",
    "  \n",
    "🔵 Ordenada: Sus elementos están indexados  \n",
    "\n",
    "🟢 INmutables: Los elementos NO se pueden añadir, eliminar o modificar elementos  \n",
    "\n",
    "🔵 Dinámica: Puede contener diferentes tipos de datos en su interior incluidos objetos y datos multidimensionales además de otras tuplas  \n",
    "\n",
    "🟢 No única: Puede contener valores repetidos en su interior  "
   ]
  },
  {
   "cell_type": "code",
   "execution_count": 1,
   "metadata": {},
   "outputs": [],
   "source": [
    "#Crear tupla vacia\n",
    "tuple_1 = tuple()\n",
    "tuple_1 = ()"
   ]
  },
  {
   "cell_type": "code",
   "execution_count": 2,
   "metadata": {},
   "outputs": [
    {
     "name": "stdout",
     "output_type": "stream",
     "text": [
      "(1, 2, 'hola', 'mundo', 'ggg', 1, 1)\n",
      "7\n"
     ]
    }
   ],
   "source": [
    "#Crear tuplas\n",
    "tuple_1 = (1, 2, 'hola', 'mundo', 'ggg', 1, 1)\n",
    "print(tuple_1)\n",
    "print(len(tuple_1))"
   ]
  },
  {
   "cell_type": "code",
   "execution_count": 3,
   "metadata": {},
   "outputs": [
    {
     "name": "stdout",
     "output_type": "stream",
     "text": [
      "1\n",
      "2\n",
      "mundo\n",
      "1\n"
     ]
    }
   ],
   "source": [
    "#Podemos acceder a valores de la tupla\n",
    "\n",
    "print(tuple_1[0])\n",
    "print(tuple_1[1])\n",
    "print(tuple_1[3])\n",
    "print(tuple_1[-1])"
   ]
  },
  {
   "cell_type": "code",
   "execution_count": 4,
   "metadata": {},
   "outputs": [
    {
     "ename": "TypeError",
     "evalue": "'tuple' object does not support item assignment",
     "output_type": "error",
     "traceback": [
      "\u001b[1;31m---------------------------------------------------------------------------\u001b[0m",
      "\u001b[1;31mTypeError\u001b[0m                                 Traceback (most recent call last)",
      "Cell \u001b[1;32mIn[4], line 3\u001b[0m\n\u001b[0;32m      1\u001b[0m \u001b[38;5;66;03m#No podemos modificar valores\u001b[39;00m\n\u001b[1;32m----> 3\u001b[0m \u001b[43mtuple_1\u001b[49m\u001b[43m[\u001b[49m\u001b[38;5;241;43m1\u001b[39;49m\u001b[43m]\u001b[49m \u001b[38;5;241m=\u001b[39m \u001b[38;5;241m1\u001b[39m\n",
      "\u001b[1;31mTypeError\u001b[0m: 'tuple' object does not support item assignment"
     ]
    }
   ],
   "source": [
    "#No podemos modificar valores\n",
    "\n",
    "tuple_1[1] = 1"
   ]
  },
  {
   "cell_type": "code",
   "execution_count": 5,
   "metadata": {},
   "outputs": [
    {
     "name": "stdout",
     "output_type": "stream",
     "text": [
      "<class 'list'>\n",
      "<class 'tuple'>\n"
     ]
    }
   ],
   "source": [
    "#Haciendo mutables las tuplas \n",
    "list_1 = list(tuple_1)\n",
    "print(type(list_1))\n",
    "\n",
    "list_1[1] = 'Mario'\n",
    "tuple_1 = tuple(list_1)\n",
    "print(type(tuple_1))"
   ]
  },
  {
   "cell_type": "code",
   "execution_count": 6,
   "metadata": {},
   "outputs": [
    {
     "name": "stdout",
     "output_type": "stream",
     "text": [
      "(1, 'Mario', 'hola')\n",
      "3\n"
     ]
    }
   ],
   "source": [
    "#Subtuplas\n",
    "#incluido, sin incluir\n",
    "# Igual que en listas\n",
    "tuple_4 = tuple_1[0:3]\n",
    "print(tuple_4)\n",
    "print(len(tuple_4))"
   ]
  },
  {
   "cell_type": "code",
   "execution_count": 8,
   "metadata": {},
   "outputs": [
    {
     "name": "stdout",
     "output_type": "stream",
     "text": [
      "(1, 'Mario', 'hola', 'mundo', 'ggg', 1, 1, 2, 4, 'h', 'o', 'l', 'a')\n"
     ]
    }
   ],
   "source": [
    "#Concatenación de tuplas\n",
    "#no es como modificar una tupla y añadir una, el proceso es crear una nueva tupla\n",
    "#que contenga a las dos anteriores\n",
    "\n",
    "tuple_2 = (2, 4, 'h', 'o', 'l', 'a')\n",
    "tuple_3 = tuple_1 + tuple_2\n",
    "print(tuple_3)"
   ]
  },
  {
   "cell_type": "code",
   "execution_count": 9,
   "metadata": {},
   "outputs": [
    {
     "name": "stdout",
     "output_type": "stream",
     "text": [
      "3\n"
     ]
    }
   ],
   "source": [
    "#Metodo count\n",
    "#Cuenta el numero de veces que se repite un determinado valor\n",
    "\n",
    "print(tuple_1.count(1))"
   ]
  },
  {
   "cell_type": "code",
   "execution_count": 10,
   "metadata": {},
   "outputs": [
    {
     "name": "stdout",
     "output_type": "stream",
     "text": [
      "0\n"
     ]
    }
   ],
   "source": [
    "#Metodo index\n",
    "#Devuelve el indice de un valor dentro de la tupla\n",
    "\n",
    "print(tuple_1.index(1))"
   ]
  }
 ],
 "metadata": {
  "kernelspec": {
   "display_name": "Mario",
   "language": "python",
   "name": "python3"
  },
  "language_info": {
   "codemirror_mode": {
    "name": "ipython",
    "version": 3
   },
   "file_extension": ".py",
   "mimetype": "text/x-python",
   "name": "python",
   "nbconvert_exporter": "python",
   "pygments_lexer": "ipython3",
   "version": "3.11.0"
  },
  "orig_nbformat": 4
 },
 "nbformat": 4,
 "nbformat_minor": 2
}
