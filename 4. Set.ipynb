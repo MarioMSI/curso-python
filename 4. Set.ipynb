{
 "cells": [
  {
   "cell_type": "markdown",
   "metadata": {},
   "source": [
    "# 4. Set"
   ]
  },
  {
   "cell_type": "markdown",
   "metadata": {},
   "source": [
    "## Set  \n",
    "  \n",
    "Los set en Python son estructuras de datos con las siguientes caracteristicas:  \n",
    "  \n",
    "🔵 Aleatorio: Sus elementos no mantienen el orden cuando son declarados \n",
    "\n",
    "🟢 Parcialmente inmutables: Los elementos se pueden añadir, eliminar pero no modificar elementos   \n",
    "\n",
    "🔵 Parcialmente dinámica: Puede contener diferentes tipos de datos en su interior incluidos objetos y datos multidimensionales además de otros set, pero no puede contener datos que sean mutables como listas o diccionarios \n",
    "\n",
    "🟢 Valores únicos: Solo contiene valores únicos "
   ]
  },
  {
   "cell_type": "markdown",
   "metadata": {},
   "source": [
    "Hacer un set cn tupla  \n",
    "probar a hacer un set con una lista  \n"
   ]
  },
  {
   "cell_type": "code",
   "execution_count": 15,
   "metadata": {},
   "outputs": [],
   "source": [
    "#Crear set vacio\n",
    "set_1 = set()\n",
    "set_2 = {}"
   ]
  },
  {
   "cell_type": "code",
   "execution_count": 16,
   "metadata": {},
   "outputs": [
    {
     "name": "stdout",
     "output_type": "stream",
     "text": [
      "{1, 2, 4, 6, 7}\n",
      "{'es', 1, 2, 'Hola', 'un', 'set', 'esto'}\n"
     ]
    }
   ],
   "source": [
    "#Crear set \n",
    "set_1 = {7, 7, 2, 4, 6, 1}\n",
    "set_2 = {'Hola', 'esto', 'es', 'un', 'set', 1, 2, 2, 'un'}\n",
    "print(set_1)\n",
    "print(set_2)"
   ]
  },
  {
   "cell_type": "code",
   "execution_count": 17,
   "metadata": {},
   "outputs": [
    {
     "ename": "TypeError",
     "evalue": "unhashable type: 'list'",
     "output_type": "error",
     "traceback": [
      "\u001b[1;31m---------------------------------------------------------------------------\u001b[0m",
      "\u001b[1;31mTypeError\u001b[0m                                 Traceback (most recent call last)",
      "Cell \u001b[1;32mIn[17], line 3\u001b[0m\n\u001b[0;32m      1\u001b[0m \u001b[38;5;66;03m#Creamos un set con lista\u001b[39;00m\n\u001b[0;32m      2\u001b[0m list_1 \u001b[38;5;241m=\u001b[39m [\u001b[38;5;241m1\u001b[39m, \u001b[38;5;241m2\u001b[39m, \u001b[38;5;241m2\u001b[39m]\n\u001b[1;32m----> 3\u001b[0m set_3 \u001b[38;5;241m=\u001b[39m {list_1}\n",
      "\u001b[1;31mTypeError\u001b[0m: unhashable type: 'list'"
     ]
    }
   ],
   "source": [
    "#Creamos un set con lista\n",
    "list_1 = [1, 2, 2]\n",
    "set_3 = {list_1}"
   ]
  },
  {
   "cell_type": "code",
   "execution_count": 18,
   "metadata": {},
   "outputs": [
    {
     "name": "stdout",
     "output_type": "stream",
     "text": [
      "{1, 2}\n"
     ]
    }
   ],
   "source": [
    "#convertimos lista a set\n",
    "set_3 = set(list_1)\n",
    "print(set_3)"
   ]
  },
  {
   "cell_type": "code",
   "execution_count": 19,
   "metadata": {},
   "outputs": [
    {
     "ename": "TypeError",
     "evalue": "'set' object is not subscriptable",
     "output_type": "error",
     "traceback": [
      "\u001b[1;31m---------------------------------------------------------------------------\u001b[0m",
      "\u001b[1;31mTypeError\u001b[0m                                 Traceback (most recent call last)",
      "Cell \u001b[1;32mIn[19], line 2\u001b[0m\n\u001b[0;32m      1\u001b[0m \u001b[38;5;66;03m#Intentamos acceder a un elemento\u001b[39;00m\n\u001b[1;32m----> 2\u001b[0m \u001b[38;5;28mprint\u001b[39m(\u001b[43mset_1\u001b[49m\u001b[43m[\u001b[49m\u001b[38;5;241;43m0\u001b[39;49m\u001b[43m]\u001b[49m)\n",
      "\u001b[1;31mTypeError\u001b[0m: 'set' object is not subscriptable"
     ]
    }
   ],
   "source": [
    "#Intentamos acceder a un elemento\n",
    "print(set_1[0])"
   ]
  },
  {
   "cell_type": "code",
   "execution_count": 20,
   "metadata": {},
   "outputs": [
    {
     "name": "stdout",
     "output_type": "stream",
     "text": [
      "True\n",
      "True\n",
      "False\n"
     ]
    }
   ],
   "source": [
    "#Comprobamos si un valor esta en un set\n",
    "print('Hola' in set_2)\n",
    "print(2 in set_2)\n",
    "print(3 in set_2)"
   ]
  },
  {
   "cell_type": "code",
   "execution_count": 21,
   "metadata": {},
   "outputs": [
    {
     "name": "stdout",
     "output_type": "stream",
     "text": [
      "{'es', 1, 2, 'Hola', 'un', 4, 'set', 'esto'}\n"
     ]
    }
   ],
   "source": [
    "#Añadir elementos\n",
    "set_2.add(4)\n",
    "print(set_2)"
   ]
  },
  {
   "cell_type": "code",
   "execution_count": 22,
   "metadata": {},
   "outputs": [
    {
     "name": "stdout",
     "output_type": "stream",
     "text": [
      "{'es', 1, 2, 'Hola', 'un', 'set', 'esto'}\n"
     ]
    },
    {
     "ename": "KeyError",
     "evalue": "5",
     "output_type": "error",
     "traceback": [
      "\u001b[1;31m---------------------------------------------------------------------------\u001b[0m",
      "\u001b[1;31mKeyError\u001b[0m                                  Traceback (most recent call last)",
      "Cell \u001b[1;32mIn[22], line 4\u001b[0m\n\u001b[0;32m      2\u001b[0m set_2\u001b[38;5;241m.\u001b[39mremove(\u001b[38;5;241m4\u001b[39m)\n\u001b[0;32m      3\u001b[0m \u001b[38;5;28mprint\u001b[39m(set_2)\n\u001b[1;32m----> 4\u001b[0m \u001b[43mset_2\u001b[49m\u001b[38;5;241;43m.\u001b[39;49m\u001b[43mremove\u001b[49m\u001b[43m(\u001b[49m\u001b[38;5;241;43m5\u001b[39;49m\u001b[43m)\u001b[49m \u001b[38;5;66;03m#lanza un error\u001b[39;00m\n\u001b[0;32m      5\u001b[0m \u001b[38;5;28mprint\u001b[39m(set_2)\n\u001b[0;32m      7\u001b[0m set_2\u001b[38;5;241m.\u001b[39mdiscard(\u001b[38;5;241m4\u001b[39m) \u001b[38;5;66;03m#no lanza un error\u001b[39;00m\n",
      "\u001b[1;31mKeyError\u001b[0m: 5"
     ]
    }
   ],
   "source": [
    "#Eliminar elemento\n",
    "set_2.remove(4)\n",
    "print(set_2)\n",
    "set_2.remove(5) #lanza un error\n",
    "print(set_2)\n",
    "\n",
    "set_2.discard(4) #no lanza un error\n",
    "print(set_2)\n"
   ]
  },
  {
   "cell_type": "code",
   "execution_count": 23,
   "metadata": {},
   "outputs": [
    {
     "name": "stdout",
     "output_type": "stream",
     "text": [
      "{1, 2, 'Hola', 4, 6, 7, 'esto', 'es', 'un', 'set'}\n",
      "{1, 2}\n"
     ]
    }
   ],
   "source": [
    "#Usamos los set como conjuntos\n",
    "set_4 = set_1.union(set_2)\n",
    "print(set_4)\n",
    "set_5 = set_1.intersection(set_2)\n",
    "print(set_5)"
   ]
  },
  {
   "cell_type": "code",
   "execution_count": 24,
   "metadata": {},
   "outputs": [],
   "source": [
    "#Truco para modificar un set\n",
    "set_1 = {1, 2, 3}\n",
    "list_1 = list(set_1)"
   ]
  },
  {
   "cell_type": "code",
   "execution_count": 25,
   "metadata": {},
   "outputs": [
    {
     "name": "stdout",
     "output_type": "stream",
     "text": [
      "[1, 2, 3]\n"
     ]
    }
   ],
   "source": [
    "print(list_1)"
   ]
  },
  {
   "cell_type": "code",
   "execution_count": null,
   "metadata": {},
   "outputs": [],
   "source": []
  }
 ],
 "metadata": {
  "kernelspec": {
   "display_name": "Mario",
   "language": "python",
   "name": "python3"
  },
  "language_info": {
   "codemirror_mode": {
    "name": "ipython",
    "version": 3
   },
   "file_extension": ".py",
   "mimetype": "text/x-python",
   "name": "python",
   "nbconvert_exporter": "python",
   "pygments_lexer": "ipython3",
   "version": "3.11.0"
  },
  "orig_nbformat": 4
 },
 "nbformat": 4,
 "nbformat_minor": 2
}
