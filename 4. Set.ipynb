{
 "cells": [
  {
   "cell_type": "markdown",
   "metadata": {},
   "source": [
    "# 4. Set"
   ]
  },
  {
   "cell_type": "markdown",
   "metadata": {},
   "source": [
    "## Set  \n",
    "  \n",
    "Los set en Python son estructuras de datos con las siguientes caracteristicas:  \n",
    "  \n",
    "🔵 Aleatorio: Sus elementos no mantienen el orden cuando son declarados \n",
    "\n",
    "🟢 Parcialmente inmutables: Los elementos se pueden añadir, eliminar pero no modificar elementos   \n",
    "\n",
    "🔵 Parcialmente dinámica: Puede contener diferentes tipos de datos en su interior incluidos objetos y datos multidimensionales además de otras otras, pero no puede contener datos que sean mutables como listas o diccionarios \n",
    "\n",
    "🟢 Valores únicos: Solo contiene valores únicos "
   ]
  },
  {
   "cell_type": "markdown",
   "metadata": {},
   "source": [
    "Hacer un set cn tupla  \n",
    "probar a hacer un set con una lista  \n"
   ]
  },
  {
   "cell_type": "code",
   "execution_count": null,
   "metadata": {},
   "outputs": [],
   "source": [
    "#Crear set vacio\n",
    "set_1 = set()\n",
    "set_2 = {}"
   ]
  },
  {
   "cell_type": "code",
   "execution_count": null,
   "metadata": {},
   "outputs": [],
   "source": [
    "#Crear set \n",
    "set_1 = {7, 7, 2, 4, 6, 1}\n",
    "set_2 = {'Hola', 'esto', 'es', 'un', 'set', 1, 2, 2, 'un'}\n",
    "print(set_1)\n",
    "print(set_2)"
   ]
  },
  {
   "cell_type": "code",
   "execution_count": null,
   "metadata": {},
   "outputs": [],
   "source": [
    "#Creamos un set con lista\n",
    "list_1 = [1, 2, 2]\n",
    "set_3 = {list_1}"
   ]
  },
  {
   "cell_type": "code",
   "execution_count": null,
   "metadata": {},
   "outputs": [],
   "source": [
    "#convertimos lista a set\n",
    "set_3 = set(list_1)\n",
    "print(set_3)"
   ]
  },
  {
   "cell_type": "code",
   "execution_count": null,
   "metadata": {},
   "outputs": [],
   "source": [
    "#Intentamos acceder a un elemento\n",
    "print(set_1[0])"
   ]
  },
  {
   "cell_type": "code",
   "execution_count": null,
   "metadata": {},
   "outputs": [],
   "source": [
    "#Comprobamos si un valor esta en un set\n",
    "print('Hola' in set_2)\n",
    "print(2 in set_2)\n",
    "print(3 in set_2)"
   ]
  },
  {
   "cell_type": "code",
   "execution_count": null,
   "metadata": {},
   "outputs": [],
   "source": [
    "#Añadir elementos\n",
    "set_2.add(4)\n",
    "print(set_2)"
   ]
  },
  {
   "cell_type": "code",
   "execution_count": null,
   "metadata": {},
   "outputs": [],
   "source": [
    "#Eliminar elemento\n",
    "set_2.remove(4)\n",
    "print(set_2)\n",
    "set_2.remove(5) #lanza un error\n",
    "print(set_2)\n",
    "\n",
    "set_2.discard(4) #no lanza un error\n",
    "print(set_2)\n"
   ]
  },
  {
   "cell_type": "code",
   "execution_count": null,
   "metadata": {},
   "outputs": [],
   "source": [
    "#Usamos los set como conjuntos\n",
    "set_4 = set_1.union(set_2)\n",
    "print(set_4)\n",
    "set_5 = set_1.intersection(set_2)\n",
    "print(set_5)"
   ]
  },
  {
   "cell_type": "code",
   "execution_count": null,
   "metadata": {},
   "outputs": [],
   "source": [
    "#Truco para modificar un set"
   ]
  }
 ],
 "metadata": {
  "kernelspec": {
   "display_name": "Mario",
   "language": "python",
   "name": "python3"
  },
  "language_info": {
   "codemirror_mode": {
    "name": "ipython",
    "version": 3
   },
   "file_extension": ".py",
   "mimetype": "text/x-python",
   "name": "python",
   "nbconvert_exporter": "python",
   "pygments_lexer": "ipython3",
   "version": "3.11.0"
  },
  "orig_nbformat": 4
 },
 "nbformat": 4,
 "nbformat_minor": 2
}
