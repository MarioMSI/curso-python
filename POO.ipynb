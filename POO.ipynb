{
 "cells": [
  {
   "cell_type": "code",
   "execution_count": null,
   "metadata": {},
   "outputs": [],
   "source": []
  },
  {
   "cell_type": "markdown",
   "metadata": {},
   "source": [
    "a principal diferencia es que un método es parte de una clase, es decir, es parte de la funcionalidad que le damos a un objeto. Por tanto, siempre va a estar asociado a un objeto. Sin embargo, las funciones en Python, están definidas por si mismas y no pertenecen a ninguna clase."
   ]
  },
  {
   "cell_type": "markdown",
   "metadata": {},
   "source": [
    "## Programación estructurada vs POO  \n",
    "La programación estructurada se basa en:  \n",
    "- Secuencias  \n",
    "- Condiciones  \n",
    "- Repeticiones  \n",
    "  \n",
    "Todos estos bloques de codigo se ejecutan línea a línea haciendo saltos entre ellos  \n",
    "  \n",
    "La POO surge como alternativa a esto y está basada en  \n",
    "- Clases  \n",
    "- Objetos  \n",
    "    - Atributos  \n",
    "    - Métodos  \n",
    "- Abstracción  \n",
    "- Herencia  \n",
    "- Encapsulación  \n",
    "- Polimorfismo  \n",
    "  \n",
    "Las ventajas de usar este paradigma son:  \n",
    "- Reutilización de código  \n",
    "- Convierte complejos códigos en estructuras simples y reproducibles  \n",
    "- Evita la duplicación de código  \n"
   ]
  },
  {
   "cell_type": "markdown",
   "metadata": {},
   "source": [
    "## Objetos\n",
    "Un objeto es una entidad que combina datos y comportamiento  \n",
    "Es usado como una herramienta para organizar y estructurar mejor nuestro código  \n",
    "Atributos: Definen como es el objeto. Variables  \n",
    "Métodos: Qué cosas puede hacer. Funciones  \n",
    "## Clases  \n",
    "Nos permite trabajar con objetos en global  \n",
    "Representa a un conjunto de objetos con una <b>estructura y comportamiento</b>  \n",
    "Las usaremos como plantillas para definir objetos  \n",
    "## Constructor  \n",
    "Lo utilizamos para crear e inicializar un objeto  \n",
    "Inicializarlo significa declarar las variables iniciales del objeto (atributo) u otras actividades necesarias  \n"
   ]
  },
  {
   "cell_type": "markdown",
   "metadata": {},
   "source": []
  }
 ],
 "metadata": {
  "language_info": {
   "name": "python"
  },
  "orig_nbformat": 4
 },
 "nbformat": 4,
 "nbformat_minor": 2
}
