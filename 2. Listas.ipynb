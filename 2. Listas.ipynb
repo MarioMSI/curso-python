{
 "cells": [
  {
   "cell_type": "markdown",
   "id": "8ffb48c9",
   "metadata": {},
   "source": [
    "# 2. Listas\n",
    "\n"
   ]
  },
  {
   "cell_type": "markdown",
   "id": "704cd81e",
   "metadata": {},
   "source": [
    "## Listas  \n",
    "Las listas en python tienen 4 características que la definen:  \n",
    "  \n",
    "🔵 Ordenada: Sus elementos están indexados  \n",
    "\n",
    "🟢 Mutables: Los elementos se pueden añadir, eliminar o modificar elementos  \n",
    "\n",
    "🔵 Dinámica: Puede contener diferentes tipos de datos en su interior incluidos objetos y datos multidimensionales además de otras listas  \n",
    "\n",
    "🟢 No única: Puede contener valores repetidos en su interior  "
   ]
  },
  {
   "cell_type": "code",
   "execution_count": null,
   "id": "5718fdcd",
   "metadata": {},
   "outputs": [],
   "source": [
    "#Crear listas vacias\n",
    "list_1 = list()\n",
    "list_2 = []"
   ]
  },
  {
   "cell_type": "code",
   "execution_count": null,
   "id": "7a8e50fb",
   "metadata": {},
   "outputs": [],
   "source": [
    "#Crear listas\n",
    "list_1 = ['a', 'b', 1, 1,5]\n",
    "print(list_1)\n",
    "print(len(list_1))"
   ]
  },
  {
   "cell_type": "code",
   "execution_count": null,
   "id": "985820a5",
   "metadata": {},
   "outputs": [],
   "source": [
    "#Acceder a valores\n",
    "#El primer término de una lista es el 0\n",
    "\n",
    "print(list_1[0])\n",
    "print(list_1[1])\n",
    "print(list_1[3])\n",
    "print(list_1[-1])"
   ]
  },
  {
   "cell_type": "code",
   "execution_count": null,
   "id": "1bc19d0a",
   "metadata": {},
   "outputs": [],
   "source": [
    "#Sustituir valores\n",
    "list_1[0] = 'rojo'\n",
    "print(list_1)\n",
    "\n",
    "list_2 = [1,2,3]\n",
    "list_1[-1] = list_2\n",
    "print(list_1)\n",
    "\n",
    "list_1[-1][-1]"
   ]
  },
  {
   "cell_type": "code",
   "execution_count": null,
   "id": "58bdfe31",
   "metadata": {},
   "outputs": [],
   "source": [
    "#Sublistas, slicing\n",
    "#incluido, sin incluir\n",
    "\n",
    "list_4 = list_1[0:3]\n",
    "print(list_4)\n",
    "print(len(list_4))"
   ]
  },
  {
   "cell_type": "code",
   "execution_count": null,
   "id": "7a4e519d",
   "metadata": {},
   "outputs": [],
   "source": [
    "#Metodo copy\n",
    "#Nos servirá para hacer una copia de una lista en el estado que esté\n",
    "list_copy = list_4.copy()"
   ]
  },
  {
   "cell_type": "code",
   "execution_count": null,
   "id": "edd9630b",
   "metadata": {},
   "outputs": [],
   "source": [
    "#Método append\n",
    "#Agrega elementos a una lista al final\n",
    "\n",
    "list_1.append(1)\n",
    "list_1.append('hola')\n",
    "print(list_1)\n",
    "print(len(list_1))"
   ]
  },
  {
   "cell_type": "code",
   "execution_count": null,
   "id": "237ce1ea",
   "metadata": {},
   "outputs": [],
   "source": [
    "#Metodo insert\n",
    "#Permite introducir un elemento específico en una posisición determinada\n",
    "\n",
    "list_1.insert(0, 'ab')\n",
    "print(list_1)\n",
    "print(len(list_1))"
   ]
  },
  {
   "cell_type": "code",
   "execution_count": null,
   "id": "4bf25f1f",
   "metadata": {},
   "outputs": [],
   "source": [
    "#Metodo extend\n",
    "#Une dos listas\n",
    "\n",
    "list_2 = ['a', 1, 4]\n",
    "list_3 = list_1.copy()\n",
    "list_3.extend(list_2)\n",
    "print(list_3)\n",
    "print(len(list_3))"
   ]
  },
  {
   "cell_type": "code",
   "execution_count": null,
   "id": "6e876bc4",
   "metadata": {},
   "outputs": [],
   "source": [
    "#Método pop\n",
    "#Extrae un elemento de la lista por posición\n",
    "\n",
    "print(list_1.pop()) #por defecto sacará el último\n",
    "print(list_1)\n",
    "\n",
    "print(list_1.pop(2)) #puedo establecer el termino a eliminar\n",
    "print(list_1)"
   ]
  },
  {
   "cell_type": "code",
   "execution_count": null,
   "id": "1f299552",
   "metadata": {},
   "outputs": [],
   "source": [
    "#Método remove\n",
    "#Borra elementos con su clave\n",
    "\n",
    "list_1.remove(1)\n",
    "print(list_1)"
   ]
  },
  {
   "cell_type": "code",
   "execution_count": null,
   "id": "1d1b2559",
   "metadata": {},
   "outputs": [],
   "source": [
    "#Metodo count\n",
    "#Cuenta el numero de veces que se repite un determinado valor\n",
    "\n",
    "print(list_1.count(1))"
   ]
  },
  {
   "cell_type": "code",
   "execution_count": null,
   "id": "3272ad09",
   "metadata": {},
   "outputs": [],
   "source": [
    "#Metodo index\n",
    "#Devuelve el indice del primer valor dentro de la lista\n",
    "\n",
    "print(list_1.index(1))"
   ]
  }
 ],
 "metadata": {
  "kernelspec": {
   "display_name": "Mario",
   "language": "python",
   "name": "python3"
  },
  "language_info": {
   "codemirror_mode": {
    "name": "ipython",
    "version": 3
   },
   "file_extension": ".py",
   "mimetype": "text/x-python",
   "name": "python",
   "nbconvert_exporter": "python",
   "pygments_lexer": "ipython3",
   "version": "3.11.0"
  }
 },
 "nbformat": 4,
 "nbformat_minor": 5
}
