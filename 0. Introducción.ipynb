{
 "cells": [
  {
   "cell_type": "markdown",
   "id": "70753f2b",
   "metadata": {},
   "source": [
    "# 0. Introducción\n"
   ]
  },
  {
   "cell_type": "markdown",
   "id": "980e2e9e",
   "metadata": {},
   "source": [
    "<details>\n",
    "    <summary> <font color=\"Green\"><h2> 1. ¿Que es python? </h2></font> </summary>\n",
    "     \n",
    "###    ⚡ Lenguaje de alto nivel  \n",
    "###    🚲 Interpretado  \n",
    "###    🤖 Orientado a Objetos\n",
    "</details>"
   ]
  },
  {
   "cell_type": "markdown",
   "id": "7167b100",
   "metadata": {},
   "source": [
    "<details>\n",
    "    <summary> <font color=\"IndianRed\"><h2> 2. ¿Por qué usamos Python? </h2></font> </summary>\n",
    "\n",
    "\n",
    "###    🌎 Muy adoptado a nivel global  \n",
    "###    👥 Gran comunidad\n",
    "###    💆‍♂️ Facil compreensión  \n",
    "      \n",
    "</details>      "
   ]
  },
  {
   "cell_type": "markdown",
   "id": "0b6610b1",
   "metadata": {},
   "source": [
    "<details>\n",
    "    <summary> <font color=\"MediumPurple\"><h2> 3. ¿Qué podemos hacer con Python? </h2></font> </summary>\n",
    " \n",
    "###    🌐 Desarrollo web \n",
    "###    🤖 Inteligencia artificial \n",
    "###    📊Ciencia de datos  \n",
    "###    📈  Machine learning  \n",
    "###    💱 Blockchain  \n",
    "###    💜 BIM\n",
    "###    ...De todo!!\n",
    "</details> "
   ]
  },
  {
   "cell_type": "markdown",
   "id": "38cbf37f",
   "metadata": {},
   "source": [
    "<details>\n",
    "    <summary> <font color=\"Tomatoe\"><h2> 4. ¿Cómo lo usamos?  </h2></font> </summary>\n",
    "\n",
    "\n",
    "####  🔶Jupyter Notebook (.ipynb)  \n",
    "####  🔶Codigo ejecutable en terminal (.py)\n",
    "  \n",
    "### ¿Dónde lo usamos?  \n",
    "Lo aplicaremos en un IDE \n",
    "    \n",
    "### ¿Qué es un IDE?  \n",
    "Entorno de programación integrado  \n",
    "### Qué IDE's existenten  \n",
    "\n",
    "#### 🔰Jupyter notebook\n",
    "#### 🔰Visual Studio Code\n",
    "#### 🔰PyCharm\n",
    "#### 🔰Spyder\n",
    "#### 🔰...\n",
    "\n",
    "</details>"
   ]
  },
  {
   "cell_type": "markdown",
   "id": "9ab013fa",
   "metadata": {},
   "source": [
    "<details>\n",
    "    <summary> <font color=\"Teal\"><h2> 5. Jupyter notebook  </h2></font> </summary>\n",
    " \n",
    "### ¿En que consiste?  \n",
    "Celdas de codigo ejecutables una a una.  \n",
    "  \n",
    "Nos permite un análisis deductivo o inductivo sobre algo.  \n",
    "  \n",
    "### ¿Dónde lo usamos?  \n",
    "\n",
    "#### 🔰Jupyter notebook\n",
    "#### 🔰Visual Studio Code\n",
    "#### 🔰Google Colab\n",
    "\n",
    "</details> "
   ]
  },
  {
   "cell_type": "markdown",
   "id": "d19acf57",
   "metadata": {},
   "source": [
    "<details>\n",
    "    <summary> <font color=\"SandyBrown\"><h2>6. Instalación  </h2></font> </summary>\n",
    " \n",
    "1. Descargar Anaconda  \n",
    "    https://www.anaconda.com/download  \n",
    "  \n",
    "    \n",
    "2. Descargar Python  \n",
    "    https://www.python.org/downloads/\n",
    "    \n",
    "    \n",
    "3. En VSCode descargar extensiones de: \n",
    "    - Python\n",
    "    - Jupyter Notebook\n",
    "    - Jupyter Notebook Renderers\n",
    "\n",
    "</details> "
   ]
  },
  {
   "cell_type": "markdown",
   "id": "1e732c70",
   "metadata": {},
   "source": [
    "<details>\n",
    "    <summary> <font color=\"Salmon\"><h2>7. Recursos  </h2></font> </summary>\n",
    " \n",
    "- Aprende python  \n",
    "https://aprendepython.es/  \n",
    "  \n",
    "- Learn Python  \n",
    "https://www.learnpython.org/es/  \n",
    "  \n",
    "- Exercism. Para practicar con ejercicios  \n",
    "https://exercism.org/  \n",
    "\n",
    "\n",
    "</details>"
   ]
  }
 ],
 "metadata": {
  "kernelspec": {
   "display_name": "Python 3 (ipykernel)",
   "language": "python",
   "name": "python3"
  },
  "language_info": {
   "codemirror_mode": {
    "name": "ipython",
    "version": 3
   },
   "file_extension": ".py",
   "mimetype": "text/x-python",
   "name": "python",
   "nbconvert_exporter": "python",
   "pygments_lexer": "ipython3",
   "version": "3.9.13"
  }
 },
 "nbformat": 4,
 "nbformat_minor": 5
}
