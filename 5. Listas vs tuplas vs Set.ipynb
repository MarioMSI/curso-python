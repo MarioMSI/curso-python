{
 "cells": [
  {
   "cell_type": "markdown",
   "metadata": {},
   "source": [
    "# 5. Listas vs Tuplas vs Set"
   ]
  },
  {
   "cell_type": "markdown",
   "metadata": {},
   "source": [
    "## ¿Qué diferencias tenemos entre ambas? "
   ]
  },
  {
   "cell_type": "markdown",
   "metadata": {},
   "source": [
    "| Listas  | Tuplas  | Set  |\n",
    "|---|---|---|\n",
    "| 🟢Son ordenadas  |  🟢 Son ordenadas | 🟣 Aleatorias |\n",
    "| 🟢Son dinámicas  | 🟢Son dinámicas  | 🔵Son dinámicas pero sin datos mutables. No se pueden añadir listas.  |\n",
    "| 🟢Sus valores no son únicos  | 🟢Sus valores no son únicos  | 🟣Los valores son únicos y no pueden estar repetidos  |\n",
    "| 🟢Mutables  | 🟣Inmutables  | 🔵Parcialmente Inmutables. Solo se puede añadir o eliminar elementos, no sustituir |\n",
    "| []  | () | {} |  \n",
    "| list() | tuple() | set() |"
   ]
  },
  {
   "cell_type": "markdown",
   "metadata": {},
   "source": []
  }
 ],
 "metadata": {
  "language_info": {
   "name": "python"
  },
  "orig_nbformat": 4
 },
 "nbformat": 4,
 "nbformat_minor": 2
}
