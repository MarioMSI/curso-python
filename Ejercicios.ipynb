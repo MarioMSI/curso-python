{
 "cells": [
  {
   "cell_type": "markdown",
   "metadata": {},
   "source": [
    "# Ejercicio 1  \n",
    "Su amigo Chandler planea visitar países exóticos de todo el mundo. Lamentablemente, Chandler no tiene buenas habilidades matemáticas. Le preocupa mucho que le timen con los cambios de divisa durante su viaje, y quiere que le hagas una calculadora de divisas. Estas son sus especificaciones para la aplicación:\n",
    "  \n",
    "### Task 1. \n",
    "Crear la función exchange_money(), tomando 2 parámetros:\n",
    "\n",
    "budget : La cantidad de dinero que piensas cambiar.\n",
    "tipo_de_intercambio : La cantidad de moneda nacional equivalente a una unidad de moneda extranjera.\n",
    "Esta función debe devolver el valor de la moneda intercambiada.\n",
    "  \n",
    "### Task 2. \n",
    "Crear la función get_change(), tomando 2 parámetros:\n",
    "\n",
    "presupuesto : Cantidad de dinero antes del intercambio.\n",
    "valor_intercambio : Cantidad de dinero que se toma del presupuesto para ser intercambiado.\n",
    "Esta función debe devolver la cantidad de dinero que queda del presupuesto.\n",
    "  \n",
    "### Task 3. \n",
    "\n",
    "Crear la función get_value_of_bills(), tomando 2 parámetros:\n",
    "\n",
    "denominación : El valor de un solo billete.\n",
    "number_of_bills : Cantidad de billetes recibidos.\n",
    "Esta caseta de cambio sólo maneja efectivo de determinados incrementos. El total que recibe debe ser divisible por el valor de un \"billete\" o unidad, lo que puede dejar una fracción o resto. Tu función debe devolver sólo el valor total de los billetes (excluyendo las cantidades fraccionarias) que la cabina devolvería. Lamentablemente, la cabina se queda con el resto/cambio como bonificación adicional.\n",
    "  \n",
    "### Task 4. \n",
    "Cree la función get_number_of_bills(), tomando el presupuesto y la denominación.\n",
    "\n",
    "Esta función debe devolver el número de billetes nuevos que puedes recibir dentro del presupuesto dado. En otras palabras: ¿Cuántos billetes enteros de moneda nueva caben en la cantidad de moneda antigua que tiene en su presupuesto? Recuerde: sólo puede recibir billetes enteros, no fracciones de billetes, así que recuerde dividir en consecuencia. De hecho, está redondeando a la baja hasta el billete entero/denominación más próximo.\n",
    "  \n",
    "### Task 5.  \n",
    "Cree la función get_leftover_of_bills(), tomando el presupuesto y la denominación.\n",
    "\n",
    "Esta función debe devolver la cantidad sobrante que no se puede canjear de su presupuesto dada la denominación de los billetes. Es muy importante saber exactamente cuánto se queda la cabina.\n",
    "  \n",
    "### Task 6. \n",
    "Crea la función valor_intercambiable(), tomando presupuesto, tasa_intercambio, diferencial y denominación.\n",
    "\n",
    "El parámetro spread es el porcentaje tomado como tasa de cambio, escrito como un entero. Hay que convertirlo a decimal dividiéndolo por 100. Si 1,00 EUR == 1,20 USD y el spread es 10, la tasa de cambio real será: 1.00 EUR == 1.32 USD porque el 10% de 1.20 es 0.12, y esta tasa adicional se añade al cambio.\n",
    "\n",
    "Esta función debe devolver el valor máximo de la nueva divisa después de calcular el tipo de cambio más el diferencial. Recuerde que la denominación de la moneda es un número entero, y no puede subdividirse.\n",
    "\n",
    "Nota: El valor devuelto debe ser de tipo int."
   ]
  },
  {
   "cell_type": "code",
   "execution_count": null,
   "metadata": {},
   "outputs": [],
   "source": []
  }
 ],
 "metadata": {
  "language_info": {
   "name": "python"
  }
 },
 "nbformat": 4,
 "nbformat_minor": 2
}
